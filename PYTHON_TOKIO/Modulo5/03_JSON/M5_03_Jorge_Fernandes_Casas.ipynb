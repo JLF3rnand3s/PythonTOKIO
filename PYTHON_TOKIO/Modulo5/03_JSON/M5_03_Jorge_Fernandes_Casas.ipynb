{
 "cells": [
  {
   "attachments": {},
   "cell_type": "markdown",
   "metadata": {},
   "source": [
    "# Ejercicios Modulo 5. JSON\n",
    "\n",
    "Consideraciones a tener en cuenta: \n",
    "\n",
    "* Guardar este documento con el siguiente formato para su entrega: __M5_03_nombre_apellido1_apellido2__\n",
    "* Realizar los ejercicios con las herramientas vistas en las sesiones. \n",
    "* Comentar el código\n",
    "* Utilizar nombres de variables apropiados, si vais a guardar una nota, llamar a esa variable nota, no n o x"
   ]
  },
  {
   "attachments": {},
   "cell_type": "markdown",
   "metadata": {},
   "source": [
    "# JSON (JavaScript Object Notation)"
   ]
  },
  {
   "attachments": {},
   "cell_type": "markdown",
   "metadata": {},
   "source": [
    "1) A continuación se muestra un JSON String\n",
    "\n",
    "{\"jefe_proyecto\": {\"Nombre\": \"Juan\",\"Edad\": 28,\"Experiencia\": [\"Gestion\",\"Finanzas\",\"Bases de datos\"],\"Residencia\": \"Madrid\",\"HorasProyecto\": 3500},\"empleados\": [{\"Nombre\": \"Elena\",\"Edad\": 26,\"Experiencia\": [\"JavaScript\",\"Python\"],\"Residencia\": \"Madrid\",\"HorasProyecto\": 500},{\"Nombre\": \"Luis\",\"Edad\": 31,\"Experiencia\": [\"Django\",\"Flask\",\"Pyramid\"],\"Residencia\": \"Barcelona\",\"HorasProyecto\": 1100}]}\n",
    "\n",
    "* Si es necesario utiliza un visualizador de JSON para entenderlo.\n",
    "* El objetivo es crear un diccionario con todos los datos y estructuras internas necesarias para que sea igual que el JSON String\n",
    "* Vete creando estructuras más pequeñas hasta que llegues a formar el mismo JSON string que ves arriba\n",
    "* Una vez que lo tengas creado, vamos a operar con él\n",
    "* Almacena esta estructura (el diccionario) en una variable\n",
    "* Comprueba su tipo y muéstrala por pantalla\n",
    "* Crea dos variables: horas_empleados y horas_jefe\n",
    "* Extrae las horas del jefe e introducelas en su variable\n",
    "* Crea un bucle que recorra el número de empleados que se tienen en la estructura, y para cada empleado vete sumando sus horas en su correspondiente variable\n",
    "* Suma todas las horas y muéstralas por pantalla"
   ]
  },
  {
   "cell_type": "code",
   "execution_count": 53,
   "metadata": {},
   "outputs": [
    {
     "name": "stdout",
     "output_type": "stream",
     "text": [
      "<class 'dict'>\n",
      "Horas del jefe: 3500\n",
      "Horas de los empleados: 1600\n",
      "Total de horas: 5100\n"
     ]
    }
   ],
   "source": [
    "# 1 Crear los diccionario (en total 3, el jefe del proyecto y los 2 empleados)\n",
    "import json\n",
    "\n",
    "gestoria = '{\"jefe_proyecto\": {\"Nombre\": \"Juan\",\"Edad\": 28,\"Experiencia\": [\"Gestion\",\"Finanzas\",\"Bases de datos\"],\"Residencia\": \"Madrid\",\"HorasProyecto\": 3500},\"empleados\": [{\"Nombre\": \"Elena\",\"Edad\": 26,\"Experiencia\": [\"JavaScript\",\"Python\"],\"Residencia\": \"Madrid\",\"HorasProyecto\": 500},{\"Nombre\": \"Luis\",\"Edad\": 31,\"Experiencia\": [\"Django\",\"Flask\",\"Pyramid\"],\"Residencia\": \"Barcelona\",\"HorasProyecto\": 1100}]}'\n",
    "\n",
    "data = json.loads(gestoria)\n",
    "# Comprobando el tipo de la variable\n",
    "print(type(data))\n",
    "\n",
    "# horas de los empleados y horas del jefe\n",
    "horas_jefe = data['jefe_proyecto']['HorasProyecto']\n",
    "\n",
    "# Para las horas de los empleados iniciaremos una variable y luego buscaremos en el \"data\" los empleados y las HorasProyecto, por cada HoraProyecto sumaremos\n",
    "horas_empleados = 0\n",
    "for empleado in data[\"empleados\"]:\n",
    "    horas_empleados += empleado[\"HorasProyecto\"]\n",
    "# Sumando todas las horas\n",
    "total_horas = horas_jefe + horas_empleados\n",
    "\n",
    "# Mostrando el resultado\n",
    "print(\"Horas del jefe:\", horas_jefe)\n",
    "print(\"Horas de los empleados:\", horas_empleados)\n",
    "print(\"Total de horas:\", total_horas)"
   ]
  },
  {
   "attachments": {},
   "cell_type": "markdown",
   "metadata": {},
   "source": [
    "2) En el ejercicio anterior has trabajado con un diccionario que tu mismo/a creaste, conviértelo a un formato JSON String, muestra su tipo y los datos por pantalla\n",
    "¿Para qué nos sirve este formato?"
   ]
  },
  {
   "cell_type": "code",
   "execution_count": 54,
   "metadata": {},
   "outputs": [
    {
     "name": "stdout",
     "output_type": "stream",
     "text": [
      "\n",
      "Datos en JSON:\n",
      "\n",
      "{\"jefe_proyecto\": {\"Nombre\": \"Juan\", \"Edad\": 28, \"Experiencia\": [\"Gestion\", \"Finanzas\", \"Bases de datos\"], \"Residencia\": \"Madrid\", \"HorasProyecto\": 3500}, \"empleados\": [{\"Nombre\": \"Elena\", \"Edad\": 26, \"Experiencia\": [\"JavaScript\", \"Python\"], \"Residencia\": \"Madrid\", \"HorasProyecto\": 500}, {\"Nombre\": \"Luis\", \"Edad\": 31, \"Experiencia\": [\"Django\", \"Flask\", \"Pyramid\"], \"Residencia\": \"Barcelona\", \"HorasProyecto\": 1100}]}\n",
      "<class 'str'>\n"
     ]
    }
   ],
   "source": [
    "json_string = json.dumps(data)\n",
    "print(\"\\nDatos en JSON:\\n\")\n",
    "print(json_string)\n",
    "print(type(json_string))\n",
    "#nos sirve para el intercambio de datos entre sistemas, ademas ocupa menos que un .json y este es mas legible "
   ]
  },
  {
   "attachments": {},
   "cell_type": "markdown",
   "metadata": {},
   "source": [
    "3) A veces os encontraréis con JSON que tendréis que modificar. Para ello tenéis que decodificarlos, realizar las modificaciones pertinentes y volver a codificarlo para dejarlo como JSON de nuevo. En el siguiente ejemplo os habéis dado cuenta de que hay algunos errores:\n",
    "* A Superman le falta como poder \"Volar\"\n",
    "* En Batman, la edad es 35, no 350\n",
    "* En Batman, le sobra el poder de \"Rayos en los ojos\"\n",
    "* En Wonder Woman le falta el poder \"Lazo de la verdad\"\n",
    "* Después de corregir todo esto, transforma estos datos en un JSON String"
   ]
  },
  {
   "cell_type": "code",
   "execution_count": 27,
   "metadata": {},
   "outputs": [
    {
     "name": "stdout",
     "output_type": "stream",
     "text": [
      "['Super fuerza', 'Super velocidad', 'Rayos en los ojos', 'Volar']\n",
      "35\n",
      "['Detective', 'Dinero']\n",
      "['Super fuerza', 'Super velocidad', 'Lazo de la verdad']\n",
      "\n",
      "Datos en JSON:\n",
      "\n",
      "{\"nombreEquipo\": \"Super Hero Squad\", \"ciudad\": \"Metro City\", \"formado\": 2016, \"baseSecreta\": \"Super Tower\", \"activo\": \"Si\", \"miembros\": [{\"nombre\": \"SuperMan\", \"edad\": 29, \"identidadSecreta\": \"Clart Kent\", \"poderes\": [\"Super fuerza\", \"Super velocidad\", \"Rayos en los ojos\", \"Volar\"]}, {\"nombre\": \"Batman\", \"edad\": 35, \"identidadSecreta\": \"Bruce Wayne\", \"poderes\": [\"Detective\", \"Dinero\"]}, {\"nombre\": \"Wonder Woman\", \"edad\": 900, \"identidadSecreta\": \"Diana de Temiscira\", \"poderes\": [\"Super fuerza\", \"Super velocidad\", \"Lazo de la verdad\"]}]}\n",
      "<class 'str'>\n"
     ]
    }
   ],
   "source": [
    "import json\n",
    "\n",
    "# NO TOCAR NADA DE ESTE BLOQUE\n",
    "superheroes = {\n",
    "\t\"nombreEquipo\": \"Super Hero Squad\",\n",
    "\t\"ciudad\": \"Metro City\",\n",
    "\t\"formado\": 2016,\n",
    "\t\"baseSecreta\": \"Super Tower\",\n",
    "\t\"activo\": \"Si\",\n",
    "\t\"miembros\": [\n",
    "\t\t{\n",
    "\t\t\t\"nombre\": \"SuperMan\",\n",
    "\t\t\t\"edad\": 29,\n",
    "\t\t\t\"identidadSecreta\": \"Clart Kent\",\n",
    "\t\t\t\"poderes\": [\n",
    "\t\t\t\t\"Super fuerza\",\n",
    "\t\t\t\t\"Super velocidad\",\n",
    "\t\t\t\t\"Rayos en los ojos\"\n",
    "\t\t\t]\n",
    "\t\t},\n",
    "\t\t{\n",
    "\t\t\t\"nombre\": \"Batman\",\n",
    "\t\t\t\"edad\": 350,\n",
    "\t\t\t\"identidadSecreta\": \"Bruce Wayne\",\n",
    "\t\t\t\"poderes\": [\n",
    "\t\t\t\t\"Detective\",\n",
    "\t\t\t\t\"Dinero\",\n",
    "\t\t\t\t\"Rayos en los ojos\"\n",
    "\t\t\t]\n",
    "\t\t},\n",
    "\t\t{\n",
    "\t\t\t\"nombre\": \"Wonder Woman\",\n",
    "\t\t\t\"edad\": 900,\n",
    "\t\t\t\"identidadSecreta\": \"Diana de Temiscira\",\n",
    "\t\t\t\"poderes\": [\n",
    "\t\t\t\t\"Super fuerza\",\n",
    "\t\t\t\t\"Super velocidad\"\n",
    "\t\t\t]\n",
    "\t\t}\n",
    "\t]\n",
    "}\n",
    "\n",
    "\n",
    "\n",
    "#-----------------------------------------EMPEZAR APARTIR DE AQUI ---------------------------------------------------------------\n",
    "'''\n",
    "3) A veces os encontraréis con JSON que tendréis que modificar. Para ello tenéis que decodificarlos,\n",
    "realizar las modificaciones pertinentes y volver a codificarlo para dejarlo como JSON de nuevo. \n",
    "En el siguiente ejemplo os habéis dado cuenta de que hay algunos errores:\n",
    "\n",
    "* A Superman le falta como poder \"Volar\"\n",
    "* En Batman, la edad es 35, no 350\n",
    "* En Batman, le sobra el poder de \"Rayos en los ojos\"\n",
    "* En Wonder Woman le falta el poder \"Lazo de la verdad\"\n",
    "* Después de corregir todo esto, transforma estos datos en un JSON String'''\n",
    "\n",
    "\n",
    "#Superpoder Volar para superman\n",
    "superheroes[\"miembros\"][0][\"poderes\"].append(\"Volar\") \n",
    "print(superheroes[\"miembros\"][0][\"poderes\"])\n",
    "\n",
    "#Edad de batman modificada\n",
    "superheroes[\"miembros\"][1][\"edad\"] = 35\n",
    "print(superheroes[\"miembros\"][1][\"edad\"])\n",
    "\n",
    "#Eliminar rayos en los ojos\n",
    "superheroes[\"miembros\"][1][\"poderes\"].pop(2)\n",
    "print(superheroes[\"miembros\"][1][\"poderes\"])\n",
    "\n",
    "#añadir lazo de la verdad\n",
    "superheroes[\"miembros\"][2][\"poderes\"].append(\"Lazo de la verdad\")\n",
    "print(superheroes[\"miembros\"][2][\"poderes\"])\n",
    "\n",
    "#transformar en un formato JSON String\n",
    "json_string = json.dumps(superheroes)\n",
    "print(\"\\nDatos en JSON:\\n\")\n",
    "print(json_string)\n",
    "print(type(json_string))"
   ]
  },
  {
   "attachments": {},
   "cell_type": "markdown",
   "metadata": {},
   "source": [
    "4) En base al ejercicio anterior, modifica la estructura de super para lograr que miembros tenga dos ramas: \"miembrosActivos\" y \"miembrosInactivos\", donde cada una de estas ramas, almacenen los héroes que están en activo y los que no. En este caso, introduce a SuperMan y Wonder Woman en la lista de activos y a Batman en la de Inactivos. Esta modificación puedes hacerla como quieras, o bien programando las estructuras de datos e ir componiéndolo o bien cogiendo el JSON y modificándolo sobre él mismo. Al finalizar puedes comprobar tu JSON en un visualizador online (http://jsonviewer.stack.hu/)"
   ]
  },
  {
   "cell_type": "code",
   "execution_count": 5,
   "metadata": {},
   "outputs": [],
   "source": [
    "superheroes = {\n",
    "    \"nombreEquipo\": \"Super Hero Squad\",\n",
    "    \"ciudad\": \"Metro City\",\n",
    "    \"formado\": 2016,\n",
    "    \"baseSecreta\": \"Super Tower\",\n",
    "    \"activo\": \"Si\",\n",
    "    \"miembrosActivos\": [\n",
    "        {\n",
    "            \"nombre\": \"SuperMan\",\n",
    "            \"edad\": 29,\n",
    "            \"identidadSecreta\": \"Clark Kent\",\n",
    "            \"poderes\": [\n",
    "                \"Super fuerza\",\n",
    "                \"Super velocidad\",\n",
    "                \"Rayos en los ojos\"\n",
    "            ]\n",
    "        },\n",
    "        {\n",
    "            \"nombre\": \"Wonder Woman\",\n",
    "            \"edad\": 900,\n",
    "            \"identidadSecreta\": \"Diana de Temiscira\",\n",
    "            \"poderes\": [\n",
    "                \"Super fuerza\",\n",
    "                \"Super velocidad\"\n",
    "            ]\n",
    "        }\n",
    "    ],\n",
    "    \"miembrosInactivos\": [\n",
    "        {\n",
    "            \"nombre\": \"Batman\",\n",
    "            \"edad\": 350,\n",
    "            \"identidadSecreta\": \"Bruce Wayne\",\n",
    "            \"poderes\": [\n",
    "                \"Detective\",\n",
    "                \"Dinero\",\n",
    "                \"Rayos en los ojos\"\n",
    "            ]\n",
    "        }\n",
    "    ]\n",
    "}\n"
   ]
  },
  {
   "attachments": {},
   "cell_type": "markdown",
   "metadata": {},
   "source": [
    "5) En el siguiente código, accedemos a un JSON de forma remota, a partir de la respuesta, realizar lo siguiente:\n",
    "* Mostrar el tipo de dato que se ha recibido\n",
    "* Mostrar los datos recibidos\n",
    "* Mostrar el número de personas que se encuentran actualmente en el espacio\n",
    "* Realizar un bucle que recorra a todas esas personas y muestre nombre y nave en la que se encuentra."
   ]
  },
  {
   "cell_type": "code",
   "execution_count": 3,
   "metadata": {},
   "outputs": [
    {
     "name": "stdout",
     "output_type": "stream",
     "text": [
      "Tipo de dato recibido:\n",
      " <class 'dict'>\n",
      "\n",
      "Datos recibidos:\n",
      "\n",
      "{'number': 10, 'people': [{'name': 'Sergey Prokopyev', 'craft': 'ISS'}, {'name': 'Dmitry Petelin', 'craft': 'ISS'}, {'name': 'Frank Rubio', 'craft': 'ISS'}, {'name': 'Stephen Bowen', 'craft': 'ISS'}, {'name': 'Warren Hoburg', 'craft': 'ISS'}, {'name': 'Sultan Alneyadi', 'craft': 'ISS'}, {'name': 'Andrey Fedyaev', 'craft': 'ISS'}, {'name': 'Jing Haiping', 'craft': 'Tiangong'}, {'name': 'Gui Haichow', 'craft': 'Tiangong'}, {'name': 'Zhu Yangzhu', 'craft': 'Tiangong'}], 'message': 'success'}\n",
      "Número de personas en el espacio: 10\n",
      "Personas en el espacio:\n",
      "Nombre: Sergey Prokopyev\n",
      "Nave: ISS\n",
      "Nombre: Dmitry Petelin\n",
      "Nave: ISS\n",
      "Nombre: Frank Rubio\n",
      "Nave: ISS\n",
      "Nombre: Stephen Bowen\n",
      "Nave: ISS\n",
      "Nombre: Warren Hoburg\n",
      "Nave: ISS\n",
      "Nombre: Sultan Alneyadi\n",
      "Nave: ISS\n",
      "Nombre: Andrey Fedyaev\n",
      "Nave: ISS\n",
      "Nombre: Jing Haiping\n",
      "Nave: Tiangong\n",
      "Nombre: Gui Haichow\n",
      "Nave: Tiangong\n",
      "Nombre: Zhu Yangzhu\n",
      "Nave: Tiangong\n"
     ]
    }
   ],
   "source": [
    "import requests\n",
    "\n",
    "# API que nos comunica cuantas personas se encuentran actualmente en el espacio\n",
    "response = requests.get(\"http://api.open-notify.org/astros.json\")\n",
    "data = response.json()\n",
    "\n",
    "\n",
    "# Mostrar el tipo de dato que se ha recibido\n",
    "data_type = type(data)\n",
    "print(\"Tipo de dato recibido:\\n\", data_type)\n",
    "\n",
    "# Mostrar los datos recibidos\n",
    "print(\"\\nDatos recibidos:\\n\")\n",
    "print(data)\n",
    "\n",
    "# Mostrar el número de personas que se encuentran actualmente en el espacio\n",
    "number_of_people = data[\"number\"]\n",
    "print(\"Número de personas en el espacio:\", number_of_people)\n",
    "\n",
    "# Realizar un bucle que recorra a todas esas personas y muestre nombre y nave en la que se encuentra\n",
    "people = data[\"people\"]\n",
    "print(\"Personas en el espacio:\")\n",
    "for person in people:\n",
    "    name = person[\"name\"]\n",
    "    craft = person[\"craft\"]\n",
    "    print(\"Nombre:\", name)\n",
    "    print(\"Nave:\", craft)\n"
   ]
  }
 ],
 "metadata": {
  "anaconda-cloud": {},
  "kernelspec": {
   "display_name": "Python 3",
   "language": "python",
   "name": "python3"
  },
  "language_info": {
   "codemirror_mode": {
    "name": "ipython",
    "version": 3
   },
   "file_extension": ".py",
   "mimetype": "text/x-python",
   "name": "python",
   "nbconvert_exporter": "python",
   "pygments_lexer": "ipython3",
   "version": "3.11.3"
  }
 },
 "nbformat": 4,
 "nbformat_minor": 1
}
