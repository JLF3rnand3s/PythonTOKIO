{
 "cells": [
  {
   "attachments": {},
   "cell_type": "markdown",
   "metadata": {},
   "source": [
    "# Ejercicios Modulo 5. Ficheros (Enunciado)\n",
    "\n",
    "Consideraciones a tener en cuenta: \n",
    "\n",
    "* Guardar este documento con el siguiente formato para su entrega: __M5_01_nombre_apellido1_apellido2__\n",
    "* Realizar los ejercicios con las herramientas vistas en las sesiones. \n",
    "* Comentar el código\n",
    "* Utilizar nombres de variables apropiados, si vais a guardar una nota, llamar a esa variable nota, no n o x"
   ]
  },
  {
   "attachments": {},
   "cell_type": "markdown",
   "metadata": {},
   "source": [
    "**1) En este ejercicio deberás crear un programa que abra y lea un fichero de texto, y nos proporcione la siguiente información:**\n",
    "\n",
    "* Nombre del fichero\n",
    "* Si el fichero esta cerrado o no (True o False)\n",
    "* El modo de apertura del fichero\n",
    "\n",
    "El fichero de texto se denominará **pruebas.txt** y tendrá el siguiente contenido en texto plano (créalo previamente):\n",
    "\n",
    "```\n",
    "Hola que tal estas\n",
    "Esto es una prueba\n",
    "Hoy no llueve\n",
    "Se acerca la navidad\n",
    "Hasta luego y muy buenas\n",
    "```\n",
    "\n",
    "Busca en la documentación que métodos nos proporcionan la información requerida. Por último, lista el contenido del fichero.\n",
    "\n",
    "**Aviso importante**: *Si quieres leer un fichero que no se ha escrito directamente con Python, entonces es posible que encuentres errores de codificación al mostrar algunos caracteres. Asegúrate de indicar la codificación del fichero manualmente durante la apertura como argumento en el **open**, por ejemplo con UTF-8:*\n",
    "\n",
    "```python\n",
    "open(..., encoding=\"utf8\")\n",
    "```"
   ]
  },
  {
   "cell_type": "code",
   "execution_count": 9,
   "metadata": {},
   "outputs": [
    {
     "name": "stdout",
     "output_type": "stream",
     "text": [
      "Nombre del fichero: pruebas.txt\n",
      "¿El fichero está cerrado? False\n",
      "Modo de apertura: r\n",
      "Contenido del fichero:\n",
      "Hola que tal estas\n",
      "Esto es una prueba\n",
      "Hoy no llueve\n",
      "Se acerca la navidad\n",
      "Hasta luego y muy buenas\n",
      "¿El fichero está cerrado? False\n"
     ]
    }
   ],
   "source": [
    "# Completa el ejercicio aquí\n",
    "\n",
    "#Guardamos el nombre del fichero en una variable para poder reutilizarla\n",
    "nombre_fichero = \"pruebas.txt\"\n",
    "#abrimos el fichero \n",
    "fichero = open(nombre_fichero, \"r\", encoding=\"utf8\")\n",
    "# Comprobación si el fichero está cerrado o no\n",
    "cerrado = fichero.closed\n",
    "\n",
    "# Modo de apertura del fichero\n",
    "modo_apertura = fichero.mode\n",
    "\n",
    "# Contenido del fichero\n",
    "contenido = fichero.read()\n",
    "\n",
    "# Cierre del fichero\n",
    "fichero.close()\n",
    "\n",
    "# Impresión de la información requerida\n",
    "print(\"Nombre del fichero:\", nombre_fichero)\n",
    "print(\"¿El fichero está cerrado?\", cerrado)\n",
    "print(\"Modo de apertura:\", modo_apertura)\n",
    "print(\"Contenido del fichero:\")\n",
    "print(contenido)\n"
   ]
  },
  {
   "attachments": {},
   "cell_type": "markdown",
   "metadata": {},
   "source": [
    "**2) Sobre el fichero anterior, obtén la siguiente información:**\n",
    "\n",
    "* Lectura de una línea del fichero\n",
    "* Lectura del fichero línea a línea"
   ]
  },
  {
   "cell_type": "code",
   "execution_count": 13,
   "metadata": {},
   "outputs": [
    {
     "name": "stdout",
     "output_type": "stream",
     "text": [
      "Lectura de una línea del fichero:\n",
      "Hola que tal estas\n",
      "\n",
      "\n",
      "Lectura del fichero línea a línea:\n",
      "Hola que tal estas\n",
      "\n",
      "Esto es una prueba\n",
      "\n",
      "Hoy no llueve\n",
      "\n",
      "Se acerca la navidad\n",
      "\n",
      "Hasta luego y muy buenas\n"
     ]
    }
   ],
   "source": [
    "# Completa el ejercicio aquí\n",
    "\n",
    "#Guardamos el nombre del fichero en una variable para poder reutilizarla\n",
    "nombre_fichero = \"pruebas.txt\"\n",
    "#abrimos el fichero \n",
    "fichero2 = open(nombre_fichero, \"r\", encoding=\"utf8\")\n",
    "# Comprobación si el fichero está cerrado o no\n",
    "cerrado = fichero2.closed\n",
    " \n",
    "# Modo de apertura del fichero\n",
    "modo_apertura = fichero2.mode\n",
    "\n",
    "\n",
    "#LECTURA DE UNA LINEA   \n",
    "print(\"Lectura de una línea del fichero:\")\n",
    "linea = fichero2.readline()\n",
    "print(linea)\n",
    "\n",
    "\n",
    "# Lectura del fichero línea a línea\n",
    "\n",
    "print(\"\\nLectura del fichero línea a línea:\")\n",
    "fichero2.seek(0)  # Reiniciamos el puntero del fichero al inicio\n",
    "for linea in fichero2:\n",
    "    print(linea)\n",
    "    \n",
    "# Contenido del fichero\n",
    "contenido = fichero2.read()\n",
    "\n",
    "# Cierre del fichero\n",
    "fichero2.close()\n"
   ]
  },
  {
   "attachments": {},
   "cell_type": "markdown",
   "metadata": {},
   "source": [
    "**3) Sobre el fichero anterior, realiza la siguiente operación:**\n",
    "\n",
    "* Abrir el fichero en modo escritura (concatenando el contenido, sin sobrescribirlo) y escribir una nueva línea de texto\n",
    "\n",
    "Comprueba que este funcionando correctamente comprobando el fichero (tendrás que cerrarlo y abrirlo para poder visualizar los cambios)."
   ]
  },
  {
   "cell_type": "code",
   "execution_count": 23,
   "metadata": {},
   "outputs": [],
   "source": [
    "#Abrimos el fichero en modo \"a\" de append para poder adjuntar mas informacion\n",
    "fichero = open(\"pruebas.txt\", \"a\", encoding=\"utf8\")\n",
    "\n",
    "#escribimos otra linea y utilizamos el write\n",
    "texto = \"\\n Hola!, esta linea de texto es nueva.\\n\"\n",
    "fichero.write(texto)\n",
    "\n",
    "#cerramos el fichero\n",
    "fichero.close()"
   ]
  },
  {
   "attachments": {},
   "cell_type": "markdown",
   "metadata": {},
   "source": [
    "**4) Sobre el fichero anterior, realiza la siguiente operación:**\n",
    "\n",
    "* Abrir el fichero en modo escritura (sobrescribiendo el contenido) y escribir una nueva línea de texto\n",
    "\n",
    "Comprueba que este funcionando correctamente comprobando el fichero (tendrás que cerrarlo y abrirlo para poder visualizar los cambios)."
   ]
  },
  {
   "cell_type": "code",
   "execution_count": 26,
   "metadata": {},
   "outputs": [],
   "source": [
    "#Abrimos el fichero en modo \"w\" para reescribir todo lo que habia en el fichero\n",
    "ficheroSobreescrito = open(\"pruebas.txt\", \"w\", encoding=\"utf8\")\n",
    "\n",
    "#escribimos otra linea y utilizamos el write\n",
    "texto = \"Esta cadena de texto hace alusion a que se ha reescrito el archivo '.txt'.\"\n",
    "ficheroSobreescrito.write(texto)\n",
    "\n",
    "#cerramos el fichero\n",
    "ficheroSobreescrito.close()"
   ]
  },
  {
   "attachments": {},
   "cell_type": "markdown",
   "metadata": {},
   "source": [
    "**5) En este ejercicio deberás crear un programa que lea los datos de un fichero de texto, que transforme cada fila en un diccionario y lo añada a una lista llamada personas. Luego recorre las personas de la lista y para cada una muestra de forma amigable todos sus campos. Por ejemplo así:**\n",
    "\n",
    "```\n",
    "(id=1) Carlos Pérez => 05/01/1989 \n",
    "```\n",
    "\n",
    "El fichero de texto se denominará **personas.txt** y tendrá el siguiente contenido en texto plano (créalo previamente):\n",
    "\n",
    "```\n",
    "1;Carlos;Pérez;05/01/1989\n",
    "2;Manuel;Heredia;26/12/1973\n",
    "3;Rosa;Campos;12/06/1961\n",
    "4;David;García;25/07/2006\n",
    "```\n",
    "\n",
    "Los campos del diccionario serán por orden: **id**, **nombre**, **apellido** y **nacimiento**.\n",
    "\n",
    "**Aviso importante**: *Si quieres leer un fichero que no se ha escrito directamente con Python, entonces es posible que encuentres errores de codificación al mostrar algunos caracteres. Asegúrate de indicar la codificación del fichero manualmente durante la apertura como argumento en el **open**, por ejemplo con UTF-8:*\n",
    "\n",
    "```python\n",
    "open(..., encoding=\"utf8\")\n",
    "```\n",
    "\n",
    "Pista: Es posible que tengas que recurrir a funciones como replace o split para poder modificar el texto de una línea de texto. Busca documentación sobre ello."
   ]
  },
  {
   "cell_type": "code",
   "execution_count": 1,
   "metadata": {},
   "outputs": [
    {
     "name": "stdout",
     "output_type": "stream",
     "text": [
      "(id=1) Carlos Pérez => 05/01/1989\n",
      "(id=2) Manuel Heredia => 26/12/1973\n",
      "(id=3) Rosa Campos => 12/06/1961\n",
      "(id=4) David García => 25/07/2006\n"
     ]
    }
   ],
   "source": [
    "#Abrimos el fichero\n",
    "ficheroPersonas = open(\"personas.txt\", \"r\", encoding=\"utf8\")\n",
    "\n",
    "#creamos una lista llamada personas en la cual dentro tendra un diccionario que tendra cada una de las caracteristicas (id, nombre...)\n",
    "personas = []\n",
    "\n",
    "#ahora iteramos con un for para que por cada elemento existente en el .txt se añada un valor al diccionario\n",
    "for linea in ficheroPersonas:\n",
    "    # Eliminar caracteres de nueva línea y dividir la línea en campos\n",
    "    campos = linea.strip().split(\";\")\n",
    "    \n",
    "    atributo = {\n",
    "        \"id\": campos[0],\n",
    "        \"nombre\": campos[1],\n",
    "        \"apellidos\": campos[2],\n",
    "        \"nacimiento\": campos[3]\n",
    "    }\n",
    "    personas.append(atributo)\n",
    "    \n",
    "#cerramos el fichero \n",
    "ficheroPersonas.close()\n",
    "for atributo in personas:\n",
    "    mensaje = \"(id={}) {} {} => {}\".format(atributo[\"id\"], atributo[\"nombre\"], atributo[\"apellidos\"], atributo[\"nacimiento\"])\n",
    "    print(mensaje)"
   ]
  }
 ],
 "metadata": {
  "anaconda-cloud": {},
  "kernelspec": {
   "display_name": "Python 3",
   "language": "python",
   "name": "python3"
  },
  "language_info": {
   "codemirror_mode": {
    "name": "ipython",
    "version": 3
   },
   "file_extension": ".py",
   "mimetype": "text/x-python",
   "name": "python",
   "nbconvert_exporter": "python",
   "pygments_lexer": "ipython3",
   "version": "3.11.3"
  }
 },
 "nbformat": 4,
 "nbformat_minor": 1
}
