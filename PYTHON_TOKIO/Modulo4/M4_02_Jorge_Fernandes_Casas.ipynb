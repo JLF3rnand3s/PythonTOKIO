{
 "cells": [
  {
   "attachments": {},
   "cell_type": "markdown",
   "metadata": {},
   "source": [
    "# Ejercicios Modulo 2. Unidad 2. Métodos aplicados (Soluciones)\n",
    "\n",
    "Consideraciones a tener en cuenta: \n",
    "\n",
    "* Guardar este documento con el siguiente formato para su entrega: __M4_02_nombre_apellido1_apellido2__\n",
    "* Realizar los ejercicios con las herramientas vistas en las sesiones. \n",
    "* Comentar el código\n",
    "* Utilizar nombres de variables apropiados, si vais a guardar una nota, llamar a esa variable nota, no n o x"
   ]
  },
  {
   "attachments": {},
   "cell_type": "markdown",
   "metadata": {},
   "source": [
    "**1) Solicita por teclado un texto al usuario y decir si:**\n",
    "* El texto es una cadena de texto\n",
    "* El texto es una cadena de dígitos\n",
    "* El texto incluye caracteres y números"
   ]
  },
  {
   "cell_type": "code",
   "execution_count": 22,
   "metadata": {},
   "outputs": [
    {
     "name": "stdout",
     "output_type": "stream",
     "text": [
      "Este es una mezcla de numeros y texto\n"
     ]
    }
   ],
   "source": [
    "#Solicitar al usuario un texto o lo que sea\n",
    "prueba = input(\"Introduce lo que te apetezca\")\n",
    "\n",
    "#Es necesario que isalpha y isdigit tengan los parentesis, por que si no luego no funcionan\n",
    "if prueba.isalpha():\n",
    "    print(\"Este es una cadena de texto\")\n",
    "elif prueba.isdigit():\n",
    "    print(\"Este es una cadena de digitos (solo numeros)\")\n",
    "else: \n",
    "    print(\"Este es una mezcla de numeros y texto\")"
   ]
  },
  {
   "attachments": {},
   "cell_type": "markdown",
   "metadata": {},
   "source": [
    "**2) Solicita al usuario un texto y una palabra a buscar dentro del texto. Si la localiza, extraer desde esa posición hasta el final de la frase y almacenarlo en otra variable.** \n",
    "* Ejemplo de texto: Hola mundo que tal \n",
    "* Buscamos: mundo \n",
    "* Resultado: mundo que tal"
   ]
  },
  {
   "cell_type": "code",
   "execution_count": 25,
   "metadata": {},
   "outputs": [
    {
     "name": "stdout",
     "output_type": "stream",
     "text": [
      "Resultado: ola\n"
     ]
    }
   ],
   "source": [
    "#solicitamos el texto y la palabra a buscar (Puede ser una letra y la palabra se colocara apartir de dicha letra eje: Hola (buscar o --> ola))\n",
    "texto = input(\"Ingresa un texto: \")\n",
    "palabra = input(\"Ingresa la palabra a buscar: \")\n",
    "#creamos una variable posicion y con el metodo \"find\" buscamos una \"palabra\" que le pasaremos nosotros\n",
    "posicion = texto.find(palabra) \n",
    "#si la encuentra el devolveremos el texto pero partiendo desde donde encontro la primera palabra de coincidencia, por ejemplo si buscamos o \n",
    "#en hola te devolvera ola\n",
    "if posicion != -1:\n",
    "    resultado = texto[posicion:]\n",
    "    print(\"Resultado:\", resultado)\n",
    "else:\n",
    "    print(\"La palabra no fue encontrada en el texto.\")\n",
    "\n"
   ]
  },
  {
   "attachments": {},
   "cell_type": "markdown",
   "metadata": {},
   "source": [
    "**3) Partiendo de una frase con diferentes palabras separadas por espacios, crear una lista donde cada elemento sea cada palabra del texto. Mostrar dicha lista y mostrar el número de veces que se encuentra la palabra mundo en esa lista**"
   ]
  },
  {
   "cell_type": "code",
   "execution_count": 28,
   "metadata": {},
   "outputs": [
    {
     "name": "stdout",
     "output_type": "stream",
     "text": [
      "Lista de palabras: ['hola', 'mundo', 'mundo', 'mundo', 'mundo']\n",
      "Número de veces que aparece 'mundo': 4\n"
     ]
    }
   ],
   "source": [
    "#solicitamos la frase\n",
    "frase = input(\"Ingresa una frase: \")\n",
    "\n",
    "# Dividir la frase en palabras utilizando el espacio como separador (si no colocas nada dentro del split() te coloca por determinado el espacio)\n",
    "lista_palabras = frase.split()\n",
    "\n",
    "# Mostrar la lista de palabras donde guardamos la palabra dividida en trozos\n",
    "print(\"Lista de palabras:\", lista_palabras)\n",
    "\n",
    "# Contar el número de veces que aparece la palabra \"mundo\" en la lista\n",
    "contador_mundo = lista_palabras.count(\"mundo\")\n",
    "\n",
    "# Mostrar el número de veces que aparece la palabra \"mundo\"\n",
    "print(\"Número de veces que aparece 'mundo':\", contador_mundo)\n",
    "\n"
   ]
  }
 ],
 "metadata": {
  "anaconda-cloud": {},
  "kernelspec": {
   "display_name": "Python 3",
   "language": "python",
   "name": "python3"
  },
  "language_info": {
   "codemirror_mode": {
    "name": "ipython",
    "version": 3
   },
   "file_extension": ".py",
   "mimetype": "text/x-python",
   "name": "python",
   "nbconvert_exporter": "python",
   "pygments_lexer": "ipython3",
   "version": "3.11.3"
  }
 },
 "nbformat": 4,
 "nbformat_minor": 1
}
