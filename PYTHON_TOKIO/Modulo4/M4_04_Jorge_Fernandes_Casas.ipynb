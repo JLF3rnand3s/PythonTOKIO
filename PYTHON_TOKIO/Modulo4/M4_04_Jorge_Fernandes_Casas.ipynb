{
 "cells": [
  {
   "attachments": {},
   "cell_type": "markdown",
   "metadata": {},
   "source": [
    "# Ejercicios Modulo 4. Unidad 4. Datos temporales (Soluciones)\n",
    "\n",
    "Consideraciones a tener en cuenta: \n",
    "\n",
    "* Guardar este documento con el siguiente formato para su entrega: __M4_04_nombre_apellido1_apellido2__\n",
    "* Realizar los ejercicios con las herramientas vistas en las sesiones. \n",
    "* Comentar el código\n",
    "* Utilizar nombres de variables apropiados, si vais a guardar una nota, llamar a esa variable nota, no n o x"
   ]
  },
  {
   "attachments": {},
   "cell_type": "markdown",
   "metadata": {},
   "source": [
    "**1) Dadas las dos siguientes fechas, que corresponden a las fechas de nacimiento de dos hermanos (en la zona horaria de Europe/Madrid), indica cual es la diferencia entre ellos en días, horas, minutos y segundos**"
   ]
  },
  {
   "cell_type": "code",
   "execution_count": 14,
   "metadata": {},
   "outputs": [
    {
     "name": "stdout",
     "output_type": "stream",
     "text": [
      "Diferencia: 6 años, 2440 días, 0 horas, 35 minutos, 0 segundos\n"
     ]
    }
   ],
   "source": [
    "from datetime import datetime\n",
    "\n",
    "hijo1 = datetime(1985, 10, 20, 17, 55)\n",
    "hijo2 = datetime(1992, 6, 25, 18, 30)\n",
    "\n",
    "\n",
    "diferencia = hijo2 - hijo1\n",
    "#sacamos la diferencia en dias utilizando el day del datetime, dividimos entre 365 que son los dias que tiene un año\n",
    "dias = diferencia.days\n",
    "años = dias // 365\n",
    "#sacamos la diferencia en segundos y dividmos por el\n",
    "segundos = diferencia.seconds % 60\n",
    "minutos = (diferencia.seconds % 3600) // 60\n",
    "horas = diferencia.seconds // 3600\n",
    "\n",
    "print(f\"Diferencia: {años} años, {dias} días, {horas} horas, {minutos} minutos, {segundos} segundos\")\n"
   ]
  },
  {
   "attachments": {},
   "cell_type": "markdown",
   "metadata": {},
   "source": [
    "**2) Crea una función que se llame formato_fecha() que reciba por parámetro una fecha del tipo datetime y nos devuelva el siguiente formato: \"20 de Abril del 2020\".**\n",
    "\n",
    "**En muchas ocasiones nuestros sistemas estan configurados de forma predeterminada en inglés, y no se puede cambiar la localidad a español. Por lo tanto, tenemos que aprender a seleccionar y mostrar los meses en español a pesar de que nuestro sistema se encuentre en inglés o en otro idioma. Crear una tupla para almacenar el listado de meses en español para poder seleccionar el nombre del mes adecuado en función a una fecha que le proporcionemos al programa. Queda prohibído utilizar metodos como locale, setlocale o strftime.**\n",
    "\n",
    "**Prueba la función enviándole una fecha predefinida por ti y la fecha actual (now)**"
   ]
  },
  {
   "cell_type": "code",
   "execution_count": 33,
   "metadata": {},
   "outputs": [
    {
     "name": "stdout",
     "output_type": "stream",
     "text": [
      "20 de Mayo del 2020\n",
      "22 de Julio del 2023\n"
     ]
    }
   ],
   "source": [
    "# Completa el ejercicio aquí\n",
    "#importamos la libreria del datetime\n",
    "from datetime import datetime\n",
    "\n",
    "\n",
    "#creamos el metodo de formato de fecha\n",
    "def formato_fecha(fecha):\n",
    "   #creamos la tupla en la cual tendra todos los meses en  y en español\n",
    "    meses_espanol = (\n",
    "        'Enero', 'Febrero', 'Marzo', 'Abril', 'Mayo', 'Junio',\n",
    "        'Julio', 'Agosto', 'Septiembre', 'Octubre', 'Noviembre', 'Diciembre'\n",
    "    )\n",
    "    dia = fecha.day\n",
    "    #el -1 es por que la tupla empieza en 0 no en 1 \n",
    "    mes = meses_espanol[fecha.month - 1]    \n",
    "    año = fecha.year  \n",
    "    \n",
    "    return f\"{dia} de {mes} del {año}\"\n",
    "\n",
    "#PRUEBAS\n",
    "#casteamos un objeto tipo fecha y el otro es la fecha actual que la sacamos con el now\n",
    "fecha1 = datetime(2020, 4, 20)\n",
    "fecha_actual = datetime.now()\n",
    "\n",
    "print(formato_fecha(fecha1))\n",
    "print(formato_fecha(fecha_actual))\n"
   ]
  },
  {
   "attachments": {},
   "cell_type": "markdown",
   "metadata": {},
   "source": [
    "**3) Utilizando strftime y formatea la fecha actual para que salga con el siguiente formato (sin los puntos):**\n",
    "* Día: 20\n",
    "* Mes: 04\n",
    "* Año: 2020\n",
    "* Hora: 16\n",
    "* Minutos: 19\n",
    "* Segundos (y milisegundos): 08.879057"
   ]
  },
  {
   "cell_type": "code",
   "execution_count": 16,
   "metadata": {
    "scrolled": true
   },
   "outputs": [
    {
     "name": "stdout",
     "output_type": "stream",
     "text": [
      "Día: 20\n",
      "Mes: 04\n",
      "Año: 2020\n",
      "Hora: 16\n",
      "Minutos: 19\n",
      "Segundos (y milisegundos): 08.879\n"
     ]
    }
   ],
   "source": [
    "from datetime import datetime\n",
    "def formato_fecha(fecha):\n",
    "    dia = fecha.strftime(\"%d\")\n",
    "    mes = fecha.strftime(\"%m\")\n",
    "    año = fecha.strftime(\"%Y\")\n",
    "    hora = fecha.strftime(\"%H\")\n",
    "    minutos = fecha.strftime(\"%M\")\n",
    "    segundos = fecha.strftime(\"%S.%f\")[:-3]\n",
    "\n",
    "    resultado = f\"Día: {dia}\\nMes: {mes}\\nAño: {año}\\nHora: {hora}\\nMinutos: {minutos}\\nSegundos (y milisegundos): {segundos}\"\n",
    "\n",
    "    return resultado\n",
    "#guardamos la fecha especifica y la casteamos para que sea un objeto de tipo datetime, por que si no, no deja ejecutarla\n",
    "#PODRIA HACERSE EN UNA LINEA\n",
    "#resultado = formato_fecha(datetime(2020, 4, 20, 16, 19, 8, 879057))\n",
    "\n",
    "#modo mas despejado (mas pasos)\n",
    "fecha = datetime(2020, 4, 20, 16, 19, 8, 879057)\n",
    "resultado = formato_fecha(fecha)\n",
    "\n",
    "print(resultado)\n"
   ]
  }
 ],
 "metadata": {
  "anaconda-cloud": {},
  "kernelspec": {
   "display_name": "Python 3",
   "language": "python",
   "name": "python3"
  },
  "language_info": {
   "codemirror_mode": {
    "name": "ipython",
    "version": 3
   },
   "file_extension": ".py",
   "mimetype": "text/x-python",
   "name": "python",
   "nbconvert_exporter": "python",
   "pygments_lexer": "ipython3",
   "version": "3.11.3"
  }
 },
 "nbformat": 4,
 "nbformat_minor": 1
}
