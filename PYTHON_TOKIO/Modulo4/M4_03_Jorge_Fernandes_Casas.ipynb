{
 "cells": [
  {
   "attachments": {},
   "cell_type": "markdown",
   "metadata": {},
   "source": [
    "# Ejercicios Modulo 4. Unidad 3. Errores y Excepciones\n",
    "\n",
    "Consideraciones a tener en cuenta: \n",
    "\n",
    "* Guardar este documento con el siguiente formato para su entrega: __M4_03_nombre_apellido1_apellido2__\n",
    "* Realizar los ejercicios con las herramientas vistas en las sesiones. \n",
    "* Comentar el código\n",
    "* Utilizar nombres de variables apropiados, si vais a guardar una nota, llamar a esa variable nota, no n o x"
   ]
  },
  {
   "attachments": {},
   "cell_type": "markdown",
   "metadata": {},
   "source": [
    "**Identificar los errores en los siguiente bloques de código y evaluarlos con excepciones especificas para evitar errores no controlados en nuestros programas. Añade mensajes explicativos para el usuario.**\n",
    "<br>_Nota: Se tienen que evaluar excepciones concretas, no hacer referencia a Exception sin más._"
   ]
  },
  {
   "attachments": {},
   "cell_type": "markdown",
   "metadata": {},
   "source": [
    "**1) Código a evaluar:**"
   ]
  },
  {
   "cell_type": "code",
   "execution_count": 3,
   "metadata": {},
   "outputs": [],
   "source": [
    "#hacemos el try-catch\n",
    "try: \n",
    "    numero = 7/0\n",
    "#catch o except de un error en concreto, en este caso de zerodivision ya que no podemos dividir entre cero\n",
    "except ZeroDivisionError:\n",
    "    print(\"No puedes dividir entre cero, bobo\")"
   ]
  },
  {
   "attachments": {},
   "cell_type": "markdown",
   "metadata": {},
   "source": [
    "**2) Código a evaluar:**"
   ]
  },
  {
   "cell_type": "code",
   "execution_count": 17,
   "metadata": {},
   "outputs": [
    {
     "name": "stdout",
     "output_type": "stream",
     "text": [
      "no llega tan lejos tu index, mira de nuevo el tamaño de tu lista, recuerda que el primer espacio de la lista es el numero 0\n"
     ]
    }
   ],
   "source": [
    "try:    \n",
    "    lista = [4, 7, 30, 23, 5]\n",
    "    lista[10]\n",
    "#Excepcion de index, el tamaño del index no es tan grande por lo que da error ya que el tamaño del index es de 4\n",
    "except IndexError:\n",
    "    print(\"no llega tan lejos tu index, mira de nuevo el tamaño de tu lista, recuerda que el primer espacio de la lista es el numero 0\")"
   ]
  },
  {
   "attachments": {},
   "cell_type": "markdown",
   "metadata": {},
   "source": [
    "**3) Código a evaluar:**"
   ]
  },
  {
   "cell_type": "code",
   "execution_count": 18,
   "metadata": {},
   "outputs": [
    {
     "name": "stdout",
     "output_type": "stream",
     "text": [
      "Esta clave no se encuentra en el diccionario proporcionado\n"
     ]
    }
   ],
   "source": [
    "try:\n",
    "    paises = { \"españa\":\"español\", \"eeuu\":\"inglés\", \"italia\":\"italiano\" } \n",
    "    paises[\"alemania\"]\n",
    "#KeyError ya que tenemos un diccionario y estamos solicitando un pais que no se encuentra dentro del dicho diccionario\n",
    "except KeyError:\n",
    "    print(\"Esta clave no se encuentra en el diccionario proporcionado\")"
   ]
  },
  {
   "attachments": {},
   "cell_type": "markdown",
   "metadata": {},
   "source": [
    "**4) Localiza el error en el siguiente bloque de código.  Crea una excepción para evitar que el programa se bloquee y además explica en un mensaje al usuario la causa y/o solución:**"
   ]
  },
  {
   "cell_type": "code",
   "execution_count": 19,
   "metadata": {},
   "outputs": [
    {
     "name": "stdout",
     "output_type": "stream",
     "text": [
      "Error de tipo, no puedes sumar una cadena de texto a un numero.\n"
     ]
    }
   ],
   "source": [
    "try:\n",
    "    resultado = \"2\" + 10\n",
    "except TypeError:\n",
    "    print(\"Error de tipo, no puedes sumar una cadena de texto a un numero.\")"
   ]
  },
  {
   "attachments": {},
   "cell_type": "markdown",
   "metadata": {},
   "source": [
    "**5) Realiza una función llamada agregar_sin_repetidos() que reciba una lista y un elemento. La función debe añadir el elemento al final de la lista con la condición de no repetir ningún elemento. Además si este elemento ya se encuentra en la lista se debe invocar un error de tipo ValueError que debes capturar y mostrar este mensaje en su lugar:**\n",
    "\n",
    "```\n",
    "  Error: Imposible añadir elementos duplicados => [elemento].\n",
    "```\n",
    "**Prueba a agregar los elementos 7, \"Python\" y 5 a través de la función agregar_sin_repetidos() e imprime la lista completa al finalizar.**\n",
    "\n",
    "*Pista: Puedes utilizar la sintaxis: elemento in lista*"
   ]
  },
  {
   "cell_type": "code",
   "execution_count": 22,
   "metadata": {},
   "outputs": [
    {
     "name": "stdout",
     "output_type": "stream",
     "text": [
      "Error: Imposible añadir elementos duplicados => 5\n",
      "Lista completa: [3, 5, 10, 7, 'Python']\n"
     ]
    }
   ],
   "source": [
    "\n",
    "#definimos\n",
    "def agregar_sin_repetidos(lista, elemento):\n",
    "    #hacemos un try catch que si el elemento esta en la lista, se lanzara un error \n",
    "    try:\n",
    "        if elemento in lista:\n",
    "            raise ValueError(f\"Imposible añadir elementos duplicados => {elemento}\")\n",
    "        #si no esta el elemento en la lista, añadimos dicho elemento en la lista\n",
    "        else:\n",
    "            lista.append(elemento)\n",
    "    #si esta en la lista lanzamos el error\n",
    "    except ValueError as e:\n",
    "        print(\"Error:\", e)\n",
    "\n",
    "# Lista inicial\n",
    "elementos = [3, 5, 10]\n",
    "\n",
    "# Agregar elementos sin repetidos, si no estan repetidos no daran error, si hay lanzara el error programado\n",
    "agregar_sin_repetidos(elementos, 7)\n",
    "agregar_sin_repetidos(elementos, \"Python\")\n",
    "#Este elemento no se añade por que esta repetido en la lista\n",
    "agregar_sin_repetidos(elementos, 5)\n",
    "\n",
    "# Imprimir lista completa\n",
    "print(\"Lista completa:\", elementos)\n"
   ]
  },
  {
   "attachments": {},
   "cell_type": "markdown",
   "metadata": {},
   "source": [
    "**6) Busca en la documentación otra excepción que no se haya utilizado hasta ahora y realiza los siguientes pasos:**\n",
    "* Provoca el error en un código de ejemplo. \n",
    "* Una vez que las hayas provocado, contrólalas con try-except\n",
    "* Muestra al usuario la información por defecto que proporcione la excepción. Pista: as\n",
    "* Personaliza el mensaje que se le proporciona al usuario utilizando todo lo anterior"
   ]
  },
  {
   "cell_type": "code",
   "execution_count": 1,
   "metadata": {},
   "outputs": [],
   "source": [
    "'''provocamos el error\n",
    "resultado = 2 ** 100000000000000000000000000000000000000000000000000000000000000000000000\n",
    "print(resultado)'''\n",
    "\n",
    "#lo controlamos con el try-excepttry:\n",
    "try:\n",
    "    resultado = 2 ** 1000000000000000000000000000000000000000000000000000000000\n",
    "except OverflowError as error:\n",
    "    #mensaje personalizado\n",
    "    print(\"Error: El excede el rango de representación válido.\")\n",
    "    #error de la excepcion\n",
    "    print(\"Información de la excepción:\", type(error).__name__)"
   ]
  }
 ],
 "metadata": {
  "anaconda-cloud": {},
  "kernelspec": {
   "display_name": "Python 3",
   "language": "python",
   "name": "python3"
  },
  "language_info": {
   "codemirror_mode": {
    "name": "ipython",
    "version": 3
   },
   "file_extension": ".py",
   "mimetype": "text/x-python",
   "name": "python",
   "nbconvert_exporter": "python",
   "pygments_lexer": "ipython3",
   "version": "3.11.3"
  }
 },
 "nbformat": 4,
 "nbformat_minor": 1
}
