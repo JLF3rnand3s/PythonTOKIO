{
 "cells": [
  {
   "cell_type": "markdown",
   "metadata": {},
   "source": [
    "# Ejercicios Modulo 2. Tipos básicos\n",
    "\n",
    "Consideraciones a tener en cuenta: \n",
    "\n",
    "* Guardar este documento con el siguiente formato para su entrega: __M2_01_nombre_apellido1_apellido2__\n",
    "* Realizar los ejercicios con las herramientas vistas en las sesiones. Aún no hemos llegado a condicionales ni bucles\n",
    "* Comentar el código\n",
    "* Utilizar nombres de variables apropiados, si vais a guardar una nota, llamar a esa variable nota, no n o x"
   ]
  },
  {
   "cell_type": "markdown",
   "metadata": {},
   "source": [
    "## Ejercicios de tipos de variables básicos"
   ]
  },
  {
   "cell_type": "markdown",
   "metadata": {},
   "source": [
    "**1) Indica un ejemplo de un tipo de dato:**\n",
    "* entero\n",
    "* flotante\n",
    "* string\n",
    "* booleano"
   ]
  },
  {
   "cell_type": "code",
   "execution_count": null,
   "metadata": {},
   "outputs": [],
   "source": [
    "int = 25 #Entero\n",
    "float = 23.3 #Decimal o flotante\n",
    "variable = \"hola como estas?\" #String o texto\n",
    "bool = True #Boolean, de eleccion o verdero o falso"
   ]
  },
  {
   "cell_type": "markdown",
   "metadata": {},
   "source": [
    "**2) Crea dos variables que se llamen nombre y apellido, en ellas introduce tu nombre y apellidos y luego prueba lo siguiente e indica el resultado:**\n",
    "\n",
    "```python      \n",
    "nombre + apellido\n",
    "nombre + apellido + \".\"\n",
    "nombre * 3\n",
    "``` "
   ]
  },
  {
   "cell_type": "code",
   "execution_count": null,
   "metadata": {},
   "outputs": [],
   "source": [
    "nombre = \"Jorge \"\n",
    "apellido = \"Fernandes\"\n",
    "nombre + apellido #imprime \"Jorge Fernandes\"\n",
    "nombre + apellido + \".\" #imprime \"Jorge Fernandes.\"\n",
    "nombre*3 #imprime \"Jorge Jorge Jorge\""
   ]
  },
  {
   "cell_type": "markdown",
   "metadata": {},
   "source": [
    "**3) Retoma el ejercicio anterior, crea una variable que se llame nombreCompleto que una tu nombre y tu apellido con un espacio en el medio. Sobre esta variable, ¿eres capaz a extraer tu nombre utilizando slicing?**"
   ]
  },
  {
   "cell_type": "code",
   "execution_count": null,
   "metadata": {},
   "outputs": [],
   "source": [
    "nombreCompleto = [\"Jorge\", \" \", \"Fernandes\"]\n",
    "print(nombreCompleto [:1])"
   ]
  }
 ],
 "metadata": {
  "anaconda-cloud": {},
  "kernelspec": {
   "display_name": "Python 3",
   "language": "python",
   "name": "python3"
  },
  "language_info": {
   "codemirror_mode": {
    "name": "ipython",
    "version": 3
   },
   "file_extension": ".py",
   "mimetype": "text/x-python",
   "name": "python",
   "nbconvert_exporter": "python",
   "pygments_lexer": "ipython3",
   "version": "3.10.7 (tags/v3.10.7:6cc6b13, Sep  5 2022, 14:08:36) [MSC v.1933 64 bit (AMD64)]"
  },
  "vscode": {
   "interpreter": {
    "hash": "c63d8c7d738c2960218a10995aedf0a7f67a49a231e71037adf0440953cdb45b"
   }
  }
 },
 "nbformat": 4,
 "nbformat_minor": 1
}
