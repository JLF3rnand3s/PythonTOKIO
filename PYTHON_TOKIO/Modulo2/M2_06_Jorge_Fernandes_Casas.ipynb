{
 "cells": [
  {
   "cell_type": "markdown",
   "metadata": {},
   "source": [
    "# Ejercicios Modulo 2. Funciones\n",
    "\n",
    "Consideraciones a tener en cuenta: \n",
    "\n",
    "* Guardar este documento con el siguiente formato para su entrega: __M2_06_nombre_apellido1_apellido2__\n",
    "* Realizar los ejercicios con las herramientas vistas en las sesiones. \n",
    "* Comentar el código\n",
    "* Utilizar nombres de variables apropiados, si vais a guardar una nota, llamar a esa variable nota, no n o x"
   ]
  },
  {
   "cell_type": "markdown",
   "metadata": {},
   "source": [
    "**1) Realiza una función que devuelva el área de un rectángulo a partir de su base y su altura. La función se llamará area_rectangulo(). La base y la altura se pedirán al usuario por teclado.**\n",
    "\n",
    "*Nota: El área de un rectángulo se obtiene al multiplicar la base por la altura.*"
   ]
  },
  {
   "cell_type": "code",
   "execution_count": null,
   "metadata": {},
   "outputs": [],
   "source": [
    "def area_rectangulo():\n",
    "    #base y altura y luego las multiplicamos en un resultado llamado area\n",
    "    base = float(input(\"Introduzca lo que mide la base en cm: \"))\n",
    "    altura = float(input(\"Introduzca lo que mide la altura en cm: \"))\n",
    "    area = base * altura\n",
    "    print(\"El area del rectangulo es el siguiente:\", area)\n",
    "    \n",
    "#Llamamos a la funcion    \n",
    "area_rectangulo()"
   ]
  },
  {
   "cell_type": "markdown",
   "metadata": {},
   "source": [
    "**2) Realiza una función que devuelva el área de un círculo a partir de un radio. La función se llamará area_circulo(). El radio se pedirá al usuario por teclado:**\n",
    "\n",
    "Nota: El área de un círculo se obtiene al elevar el radio a dos y multiplicando el resultado por el número pi. Puedes utilizar el valor 3.14159 como pi o importarlo del módulo math:\n",
    "```python\n",
    "import math\n",
    "print(math.pi)\n",
    "> 3.1415...\n",
    "```"
   ]
  },
  {
   "cell_type": "code",
   "execution_count": 2,
   "metadata": {},
   "outputs": [
    {
     "name": "stdout",
     "output_type": "stream",
     "text": [
      "9\n"
     ]
    }
   ],
   "source": [
    "import math\n",
    "\n",
    "\n",
    "def area_circulo():\n",
    "    #pedimos por teclado el radio del circulo\n",
    "    radio = float(input(\"Introduzca el radio del circulo\"))\n",
    "    area = (radio**2) * math.pi\n",
    "\n",
    "      # mostramos el resultado del cálculo del área\n",
    "    print(\"El área del círculo es:\", area)\n",
    "\n",
    "area_circulo()"
   ]
  },
  {
   "cell_type": "markdown",
   "metadata": {},
   "source": [
    "**3) Realiza una función llamada lee_numero() que solicite y lea por teclado un numero. Utilizar esta función para pedirle al usuario 3 números. Luego pasarle estos 3 números a una función que se llame mayor() que tenga 3 parámetros y que devuelva el número mayor de los 3:**"
   ]
  },
  {
   "cell_type": "code",
   "execution_count": 3,
   "metadata": {},
   "outputs": [
    {
     "name": "stdout",
     "output_type": "stream",
     "text": [
      "El número mayor de los tres es: 32.0\n"
     ]
    }
   ],
   "source": [
    "def lee_numero():\n",
    "    \"\"\"Lee un número desde el teclado y lo devuelve como un valor float.\"\"\"\n",
    "    numero = float(input(\"Introduce un número: \"))\n",
    "    return numero\n",
    "\n",
    "def mayor(num1, num2, num3):\n",
    "    \"\"\"Recibe tres números y devuelve el mayor de ellos.\"\"\"\n",
    "    maximo = max(num1, num2, num3)\n",
    "    return maximo\n",
    "\n",
    "# Pedimos al usuario que introduzca tres números.\n",
    "num1 = lee_numero()\n",
    "num2 = lee_numero()\n",
    "num3 = lee_numero()\n",
    "\n",
    "# Llamamos a la función mayor() para obtener el número mayor de los tres.\n",
    "maximo = mayor(num1, num2, num3)\n",
    "\n",
    "# Mostramos el resultado.\n",
    "print(\"El número mayor de los tres es:\", maximo)"
   ]
  },
  {
   "cell_type": "markdown",
   "metadata": {},
   "source": [
    "**4) Realizar una función llamada imc(). Esta función nos proporcionará el estado nutricional de una persona. Esto es; la clasificación de su índice de masa corporal (IMC), según la tabla proporcionada. La función recibirá el peso (en kilos) y la talla de una persona (en metros con dos decimales), datos a partir de los cuales se puede calcular el IMC cómo:**\n",
    "\n",
    "IMC = peso / (altura * altura)\n",
    "\n",
    "Clasificación: IMC (Kg/m^2)\n",
    "* Bajo peso:  < 18.50\n",
    "* Normal:      [18.50, 25.00)\n",
    "* Sobrepeso: >= 25.00\n",
    "* Obesidad: >= 30.00"
   ]
  },
  {
   "cell_type": "code",
   "execution_count": 5,
   "metadata": {},
   "outputs": [
    {
     "data": {
      "text/plain": [
       "'Bajo peso'"
      ]
     },
     "execution_count": 5,
     "metadata": {},
     "output_type": "execute_result"
    }
   ],
   "source": [
    "def imc(peso, altura):\n",
    "    \"\"\"\n",
    "    Calcula el índice de masa corporal (IMC) y devuelve una clasificación según la tabla proporcionada.\n",
    "\n",
    "        peso (float): Peso de la persona en kilogramos.\n",
    "        altura (float): Altura de la persona en metros con dos decimales.\n",
    "\n",
    "        str: Clasificación del IMC de la persona.\n",
    "    \"\"\"\n",
    "    imc = peso / (altura ** 2)\n",
    "    if imc < 18.5:\n",
    "        return \"Bajo peso\"\n",
    "    elif imc < 25:\n",
    "        return \"Normal\"\n",
    "    elif imc < 30:\n",
    "        return \"Sobrepeso\"\n",
    "    else:\n",
    "        return \"Obesidad\"\n",
    "    \n",
    "#Para obtener un resultado introduce tus valores aqui dentro de los parentesis\n",
    "imc(52, 1.85)\n"
   ]
  },
  {
   "cell_type": "markdown",
   "metadata": {},
   "source": [
    "**5) ¿Recuerdas este programa de la unidad de control de flujo?**\n",
    "\n",
    "Realiza un programa que realice las siguientes tareas:\n",
    "\n",
    "* Paso 1) solicite al usuario una contraseña y la guarde en una variable\n",
    "* Paso 2) pida al usuario introducir la contraseña para loguearse\n",
    "    * si la contraseña es correcta mostramos \"Login correcto\"\n",
    "    * si la contraseña no es correcta se le tendrá que mostrar un mensaje de \"Login fallido. Intento 1\", donde 1 será una variable contador que irá incrementandose hasta llegar a 5. En ese punto reiniciamos el programa y volveremos al Paso 1\n",
    "\n",
    "__Reestructura el ejercicio dividiéndolo al máximo en funciones.__"
   ]
  },
  {
   "cell_type": "code",
   "execution_count": 7,
   "metadata": {},
   "outputs": [
    {
     "name": "stdout",
     "output_type": "stream",
     "text": [
      "Login fallido. Intento 1\n",
      "Login fallido. Intento 2\n",
      "Login fallido. Intento 3\n",
      "Login fallido. Intento 4\n",
      "Login fallido. Intento 5\n",
      "Demasiados intentos fallidos. Reiniciando programa.\n",
      "Login correcto\n"
     ]
    }
   ],
   "source": [
    "def solicitar_contrasena():\n",
    " \n",
    "  #  Solicita al usuario una contraseña y la guarda en una variable.\n",
    "    contrasena = input(\"Ingrese una contraseña: \")\n",
    "    return contrasena\n",
    "\n",
    "\n",
    "def intentar_login(contrasena):\n",
    " \n",
    "   # Pide al usuario que ingrese la contraseña para hacer login.\n",
    "   \n",
    "    intentos = 0\n",
    "    while intentos < 5:\n",
    "        ingreso = input(\"Ingrese la contraseña para hacer login: \")\n",
    "        if ingreso == contrasena:\n",
    "            print(\"Login correcto\")\n",
    "            return True\n",
    "        else:\n",
    "            intentos += 1\n",
    "            print(f\"Login fallido. Intento {intentos}\")\n",
    "    print(\"Demasiados intentos fallidos. Reiniciando programa.\")\n",
    "    return False\n",
    "\n",
    "\n",
    "def programa_login():\n",
    "\n",
    "   # Programa principal para solicitar una contraseña y permitir al usuario hacer login.\n",
    "\n",
    "    contrasena = solicitar_contrasena()\n",
    "    while True:\n",
    "        if intentar_login(contrasena):\n",
    "            break\n",
    "        contrasena = solicitar_contrasena()\n",
    "        \n",
    "programa_login()\n"
   ]
  }
 ],
 "metadata": {
  "anaconda-cloud": {},
  "kernelspec": {
   "display_name": "Python 3",
   "language": "python",
   "name": "python3"
  },
  "language_info": {
   "codemirror_mode": {
    "name": "ipython",
    "version": 3
   },
   "file_extension": ".py",
   "mimetype": "text/x-python",
   "name": "python",
   "nbconvert_exporter": "python",
   "pygments_lexer": "ipython3",
   "version": "3.10.7"
  }
 },
 "nbformat": 4,
 "nbformat_minor": 1
}
