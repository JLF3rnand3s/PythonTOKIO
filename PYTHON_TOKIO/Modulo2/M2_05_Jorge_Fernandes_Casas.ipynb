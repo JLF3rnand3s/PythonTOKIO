{
 "cells": [
  {
   "cell_type": "markdown",
   "metadata": {},
   "source": [
    "# Ejercicios Modulo 2. Control de flujo\n",
    "\n",
    "Consideraciones a tener en cuenta: \n",
    "\n",
    "* Guardar este documento con el siguiente formato para su entrega: __M2_05_nombre_apellido1_apellido2__\n",
    "* Realizar los ejercicios con las herramientas vistas en las sesiones. \n",
    "* Comentar el código\n",
    "* Utilizar nombres de variables apropiados, si vais a guardar una nota, llamar a esa variable nota, no n o x"
   ]
  },
  {
   "cell_type": "markdown",
   "metadata": {},
   "source": [
    "## Ejercicios de control de flujo"
   ]
  },
  {
   "cell_type": "markdown",
   "metadata": {},
   "source": [
    "**1) Realiza un programa que lea tres números por teclado y permita evaluar lo siguiente:** \n",
    "* Si los números están en orden ascendente\n",
    "* Si los números no están en orden ascendente\n",
    "* Si hay un error debido a que el primer número introducido es 0\n",
    "\n",
    "__No uses listas, eso dejalo para el siguiente ejercicio__"
   ]
  },
  {
   "cell_type": "code",
   "execution_count": 3,
   "metadata": {},
   "outputs": [
    {
     "name": "stdout",
     "output_type": "stream",
     "text": [
      "Introduzca un numero, el siguiente que sea mayor, y el ultimo que sea mayor a los dos anteriores\n",
      "Los numeros no estan en orden ascendente.\n"
     ]
    }
   ],
   "source": [
    "numero1 = int(input(\"Introduzca un numero entero\"))\n",
    "numero2 = float(input(\"Introduzca un numero decimal\"))\n",
    "numero3 = float(input(\"Introduzca un numero decimal\"))\n",
    "\n",
    "print(\"Introduzca un numero, el siguiente que sea mayor, y el ultimo que sea mayor a los dos anteriores\")\n",
    "\n",
    "if (numero1 == 0 or numero2 == 0 or numero3 == 0):\n",
    "    print(\"Error, el numero ingresado no puede ser 0, intentelo de nuevo.\")\n",
    "elif(numero1 < numero2 and numero2 < numero3):\n",
    "    print(\"Los numeros estan en orden ascendente.\")\n",
    "else:\n",
    "    print(\"Los numeros no estan en orden ascendente.\")\n"
   ]
  },
  {
   "cell_type": "markdown",
   "metadata": {},
   "source": [
    "**2) Realiza el ejercicio anterior pero introduciendo los numeros en una lista:**"
   ]
  },
  {
   "cell_type": "code",
   "execution_count": 4,
   "metadata": {},
   "outputs": [
    {
     "name": "stdout",
     "output_type": "stream",
     "text": [
      "Introduzca un numero, el siguiente que sea mayor, y el ultimo que sea mayor a los dos anteriores\n",
      "Los numeros no estan en orden ascendente.\n"
     ]
    }
   ],
   "source": [
    "numero1 = int(input(\"Introduzca un numero entero\"))\n",
    "numero2 = float(input(\"Introduzca un numero decimal\"))\n",
    "numero3 = float(input(\"Introduzca un numero decimal\"))\n",
    "\n",
    "print(\"Introduzca un numero, el siguiente que sea mayor, y el ultimo que sea mayor a los dos anteriores\")\n",
    "\n",
    "if (numero1 == 0 or numero2 == 0 or numero3 == 0):\n",
    "    print(\"Error, el numero ingresado no puede ser 0, intentelo de nuevo.\")\n",
    "elif(numero1 < numero2 and numero2 < numero3):\n",
    "    print(\"Los numeros estan en orden ascendente.\")\n",
    "    listaNumeros = [numero1, numero2, numero3]\n",
    "else:\n",
    "    print(\"Los numeros no estan en orden ascendente.\")\n",
    "    \n",
    "# Verificamos --> print(listaNumeros)"
   ]
  },
  {
   "cell_type": "markdown",
   "metadata": {},
   "source": [
    "**3) Realiza un programa que realice el sumatorio de los primeros N números, empezando en 0, y siendo N el número límite que el usuario proporciona por teclado:** \n",
    "* Ejemplo de número límite introducido por el usuario: 5\n",
    "* sumatorio = 0 + 1 + 2 + 3 + 4 (sumamos los 5 primeros números)"
   ]
  },
  {
   "cell_type": "code",
   "execution_count": 5,
   "metadata": {},
   "outputs": [
    {
     "name": "stdout",
     "output_type": "stream",
     "text": [
      "el sumatorio de los primeros numeros 2 es 1\n"
     ]
    }
   ],
   "source": [
    "limite = int(input(\"Coloque un numero limite para la sumatoria\"))\n",
    "#Iniciamos la variable sumatorio\n",
    "sumatorio = 0\n",
    "#ahora hacemos un for para que se recorra lo que haya dentro el numero de veces que el usuario diga el numero \"n\", obtenido de limite\n",
    "for i in range(limite):\n",
    "    #sumamos 1 por cada vez que se recorra el bucle\n",
    "    sumatorio +=i\n",
    "    #imprimimos el resultado\n",
    "print(\"el sumatorio de los primeros numeros\",limite,\"es\", sumatorio )"
   ]
  },
  {
   "cell_type": "markdown",
   "metadata": {},
   "source": [
    "**4) Realiza un programa que lea letras y cuente con una variable contador las letras \"a\" que se introducen. Para salir del programa, introducir el carácter \".\". Al finalizar mostrar el número de veces que se ha pulsado la letra \"a\".**"
   ]
  },
  {
   "cell_type": "code",
   "execution_count": 6,
   "metadata": {},
   "outputs": [
    {
     "name": "stdout",
     "output_type": "stream",
     "text": [
      "Has introducido la letra 'a' un total de 0 veces.\n"
     ]
    }
   ],
   "source": [
    "contador_a = 0  # Inicializamos el contador de 'a' a 0\n",
    "\n",
    "while True:\n",
    "    letra = input(\"Introduce una letra ('.' para salir): \")\n",
    "    if letra == \".\":\n",
    "        break  # Salimos del bucle si se introduce '.'\n",
    "    elif letra == \"a\":\n",
    "        contador_a += 1  # Incrementamos el contador de 'a' si se introduce una 'a'\n",
    "\n",
    "print(\"Has introducido la letra 'a' un total de\", contador_a, \"veces.\")"
   ]
  },
  {
   "cell_type": "markdown",
   "metadata": {},
   "source": [
    "**5) Realiza el sumatorio de los números pares comprendidos entre 1000 y 73 (en este orden, yendo hacia atrás). Implementa esta solución con un bucle for o while:**"
   ]
  },
  {
   "cell_type": "code",
   "execution_count": 7,
   "metadata": {},
   "outputs": [
    {
     "name": "stdout",
     "output_type": "stream",
     "text": [
      "El sumatorio de los números pares entre 1000 y 73 es: 249168\n"
     ]
    }
   ],
   "source": [
    "sumatorio = 0\n",
    "\n",
    "for num in range(1000, 73, -1):\n",
    "    if num % 2 == 0:  # Si el número es par\n",
    "        sumatorio += num  # Lo sumamos al sumatorio\n",
    "\n",
    "print(\"El sumatorio de los números pares entre 1000 y 73 es:\", sumatorio)\n",
    "#NOTA: he comprendido que quereis sumar todos los numeros pares, es decir 1000 + 998 + 996... Asi hasta el 74, no se si es correcto"
   ]
  },
  {
   "cell_type": "markdown",
   "metadata": {},
   "source": [
    "**6) Realiza un programa que solicite al usuario un número que representa el total de números que se van a introducir. Posteriormente leer todos esos números, meterlos en una lista y realizar:**\n",
    "* La ordenación de la lista de menor a mayor\n",
    "* Indicar el promedio de la lista\n",
    "* Indicar el valor máximo y el valor mínimo y en que posiciones se encuentran"
   ]
  },
  {
   "cell_type": "code",
   "execution_count": 9,
   "metadata": {},
   "outputs": [
    {
     "name": "stdout",
     "output_type": "stream",
     "text": [
      "Lista ordenada: [1.0, 2.6, 5.6, 32.0, 158.0]\n",
      "Promedio: 39.839999999999996\n",
      "Valor mínimo: 1.0, posición: 0\n",
      "Valor máximo: 158.0, posición: 4\n"
     ]
    }
   ],
   "source": [
    "# Pedir al usuario el número de elementos\n",
    "num_elementos = int(input(\"Introduce el número de elementos: \"))\n",
    "\n",
    "# Leer los números y añadirlos a una lista\n",
    "numeros = []\n",
    "for i in range(num_elementos):\n",
    "    numero = float(input(f\"Introduce el número {i+1}: \"))\n",
    "    numeros.append(numero)\n",
    "\n",
    "# Ordenar la lista de menor a mayor\n",
    "numeros.sort()\n",
    "\n",
    "# Calcular el promedio\n",
    "promedio = sum(numeros) / num_elementos\n",
    "\n",
    "# Encontrar el valor mínimo y su posición\n",
    "valor_minimo = numeros[0]\n",
    "posicion_minimo = 0\n",
    "for i in range(1, num_elementos):\n",
    "    if numeros[i] < valor_minimo:\n",
    "        valor_minimo = numeros[i]\n",
    "        posicion_minimo = i\n",
    "\n",
    "# Encontrar el valor máximo y su posición\n",
    "valor_maximo = numeros[-1]\n",
    "posicion_maximo = num_elementos - 1\n",
    "for i in range(num_elementos - 2, -1, -1):\n",
    "    if numeros[i] > valor_maximo:\n",
    "        valor_maximo = numeros[i]\n",
    "        posicion_maximo = i\n",
    "\n",
    "# Imprimir los resultados\n",
    "print(f\"Lista ordenada: {numeros}\")\n",
    "print(f\"Promedio: {promedio}\")\n",
    "print(f\"Valor mínimo: {valor_minimo}, posición: {posicion_minimo}\")\n",
    "print(f\"Valor máximo: {valor_maximo}, posición: {posicion_maximo}\")"
   ]
  },
  {
   "cell_type": "markdown",
   "metadata": {},
   "source": [
    "**7) Crea una lista de palabras, recorre la lista y muestra cada palabra junto con su longitud. Al final, indicar cual fue la palabra con más caracteres.**"
   ]
  },
  {
   "cell_type": "code",
   "execution_count": 50,
   "metadata": {},
   "outputs": [
    {
     "name": "stdout",
     "output_type": "stream",
     "text": [
      "hola : 4\n",
      "como estas? : 11\n",
      "esta es una lista de palabras : 29\n",
      "luego se determina cual palabra es la mas alarga : 48\n",
      "miras : 5\n",
      "la palabra con mas caracteres es 'luego se determina cual palabra es la mas alarga', con 48\n"
     ]
    }
   ],
   "source": [
    "#Creamos una lista de palabras\n",
    "listaPalabras = [\"hola\" , \"como estas?\", \"esta es una lista de palabras\", \"luego se determina cual palabra es la mas alarga\",\"miras\"]\n",
    "#creamos una variable longitud y palabra para saber la longitud de la lista y palabra para saber las palabras\n",
    "longitud_max = 0\n",
    "#esto estara en blanco ya que por ahi se agregaran las letras que leera el programa\n",
    "palabra_max = \"\" \n",
    "#recorremos la list\n",
    "for palabra in listaPalabras:\n",
    "    longitud = len(palabra)\n",
    "    print(f\"{palabra} : {longitud}\")\n",
    "    if longitud > longitud_max:\n",
    "        longitud_max = longitud\n",
    "        palabra_max = palabra \n",
    "\n",
    "#si queremos mostrar la palabra con mas caracteres solo tenemos que hacer lo siguiente\n",
    "print(f\"la palabra con mas caracteres es '{palabra_max}', con {longitud_max}\")\n"
   ]
  },
  {
   "cell_type": "markdown",
   "metadata": {},
   "source": [
    "**8) Crea un menú con esta forma:**\n",
    "```python\n",
    "MENU COMPRA-VENTA\n",
    "    1. Comprar\n",
    "    2. Vender\n",
    "    3. Alquilar\n",
    "    4. Mostrar listas de datos\n",
    "    5. Salir\n",
    "    Introduzca que desea hacer(1-4): \n",
    "```\n",
    "* Si se selecciona la opción 1 preguntaremos al usuario que quiere comprar y después de que el usuario lo haya introducido se guardará en una lista destinada a las compras y se volverá al menú principal.\n",
    "* Si se selecciona la opción 2 preguntaremos al usuario que quiere vender y después de que el usuario lo haya introducido se guardará en una lista destinada a las ventas y se volverá al menú principal.\n",
    "* Si se selecciona la opción 3 preguntaremos al usuario que quiere alquilar y después de que el usuario lo haya introducido se guardará en una lista destinada a los alquileres y se volverá al menú principal.\n",
    "* Si se selecciona la opción 4 se mostrarán todas las listas.\n",
    "* Si se selecciona la opción 5 saldremos del bucle."
   ]
  },
  {
   "cell_type": "code",
   "execution_count": 66,
   "metadata": {},
   "outputs": [
    {
     "name": "stdout",
     "output_type": "stream",
     "text": [
      "MENU COMPRA-VENTA\n",
      "1. Comprar\n",
      "2. Vender\n",
      "3. Alquilar\n",
      "4. Mostrar listas de datos\n",
      "5. Salir\n",
      "Adiós.\n"
     ]
    }
   ],
   "source": [
    "# Creamos las listas para cada categoría\n",
    "compras = []\n",
    "ventas = []\n",
    "alquileres = []\n",
    "\n",
    "# Inicializamos la opción del menú\n",
    "opcion = 0\n",
    "\n",
    "# Bucle del menú\n",
    "while opcion != 5: #mientras la opcion elegida sea distinta de 5 podemos hacer lo que este dentro de lo que programemos\n",
    "    # Mostramos el menú\n",
    "    print(\"MENU COMPRA-VENTA\")\n",
    "    print(\"1. Comprar\")\n",
    "    print(\"2. Vender\")\n",
    "    print(\"3. Alquilar\")\n",
    "    print(\"4. Mostrar listas de datos\")\n",
    "    print(\"5. Salir\")\n",
    "\n",
    "    # Pedimos la opción al usuario\n",
    "    opcion = int(input(\"Introduzca que desea hacer (1-5): \"))\n",
    "\n",
    "    # Comprar\n",
    "    if opcion == 1:\n",
    "        #si la opcion es 1 el usuario compra y el producto lo metemos en la lista de compras\n",
    "        producto = input(\"Introduzca el producto que desea comprar: \")\n",
    "        compras.append(producto)\n",
    "        print(f\"Ha comprado {producto}.\")\n",
    "\n",
    "    # Vender\n",
    "    elif opcion == 2:\n",
    "          #si la opcion es 2 el usuario vende y el producto lo metemos en la lista de ventas\n",
    "        producto = input(\"Introduzca el producto que desea vender: \")\n",
    "        ventas.append(producto)\n",
    "        print(f\"Ha vendido {producto}.\")\n",
    "\n",
    "    # Alquilar\n",
    "    elif opcion == 3:\n",
    "          #si la opcion es 3 el usuario alquila y el producto lo metemos en la lista de alquileres\n",
    "        producto = input(\"Introduzca el producto que desea alquilar: \")\n",
    "        alquileres.append(producto)\n",
    "        print(f\"Ha alquilado {producto}.\")\n",
    "\n",
    "    # Mostrar listas de datos\n",
    "    elif opcion == 4:\n",
    "          #si la opcion es 4 le mostramos todo lo que hay en las listas\n",
    "        print(\"Lista de compras:\", compras)\n",
    "        print(\"Lista de ventas:\", ventas)\n",
    "        print(\"Lista de alquileres:\", alquileres)\n",
    "\n",
    "    # Salir\n",
    "    #como el while solo se ejecuta si el numero es distinto de 5, si introducimos 5 el programa se finaliza\n",
    "    elif opcion == 5:\n",
    "        print(\"Adiós.\")\n",
    "        \n",
    "        \n",
    "    # Opción inválida si ponemos cualquier otro numero\n",
    "    else:\n",
    "        print(\"Opción inválida. Introduzca un número del 1 al 5.\")\n"
   ]
  },
  {
   "cell_type": "markdown",
   "metadata": {},
   "source": [
    "**9) Realiza un programa que realice las siguientes tareas:**\n",
    "* __Paso 1__) solicite al usuario una contraseña y la guarde en una variable \n",
    "* __Paso 2__) pida al usuario introducir la contraseña para loguearse\n",
    "    * si la contraseña es correcta mostramos \"__Login correcto__\"\n",
    "    * si la contraseña no es correcta se le tendrá que mostrar un mensaje de \"__Login fallido. Intento 1__\", donde 1 será una variable contador que irá incrementandose hasta llegar a __5__. En ese punto __reiniciamos el programa y volveremos al Paso 1__"
   ]
  },
  {
   "cell_type": "code",
   "execution_count": 2,
   "metadata": {},
   "outputs": [
    {
     "name": "stdout",
     "output_type": "stream",
     "text": [
      "Bienvenido, puede elejir entre las siguientes opciones\n",
      "1- Para iniciar sesion\n",
      "2- Para crear un usuario\n",
      "bienvenido, Paco\n",
      "Usuario creado con éxito. Usuario: Jorge Contraseña: 12\n",
      "Usuario creado con éxito.\n",
      "Bienvenido, Jorge\n"
     ]
    },
    {
     "ename": "ValueError",
     "evalue": "invalid literal for int() with base 10: ''",
     "output_type": "error",
     "traceback": [
      "\u001b[1;31m---------------------------------------------------------------------------\u001b[0m",
      "\u001b[1;31mValueError\u001b[0m                                Traceback (most recent call last)",
      "Cell \u001b[1;32mIn[2], line 13\u001b[0m\n\u001b[0;32m      7\u001b[0m \u001b[39mprint\u001b[39m(\u001b[39m\"\u001b[39m\u001b[39m2- Para crear un usuario\u001b[39m\u001b[39m\"\u001b[39m)\n\u001b[0;32m     11\u001b[0m \u001b[39mwhile\u001b[39;00m opcion \u001b[39m!=\u001b[39m \u001b[39m3\u001b[39m:   \n\u001b[1;32m---> 13\u001b[0m         opcion \u001b[39m=\u001b[39m \u001b[39mint\u001b[39;49m(\u001b[39minput\u001b[39;49m(\u001b[39m\"\u001b[39;49m\u001b[39mintroduzca una opcion\u001b[39;49m\u001b[39m\"\u001b[39;49m))\n\u001b[0;32m     14\u001b[0m         \u001b[39mif\u001b[39;00m opcion \u001b[39m==\u001b[39m \u001b[39m1\u001b[39m:\n\u001b[0;32m     15\u001b[0m                 \u001b[39m#usuarios creados ya anteriormente\u001b[39;00m\n\u001b[0;32m     16\u001b[0m                 user \u001b[39m=\u001b[39m \u001b[39minput\u001b[39m(\u001b[39m\"\u001b[39m\u001b[39mintroduzca su usuario.\u001b[39m\u001b[39m\"\u001b[39m)\n",
      "\u001b[1;31mValueError\u001b[0m: invalid literal for int() with base 10: ''"
     ]
    }
   ],
   "source": [
    "# Crea un diccionario para almacenar los usuarios y contraseñas\n",
    "usuarios = {}\n",
    "\n",
    "opcion = 0\n",
    "print(\"Bienvenido, puede elejir entre las siguientes opciones\")\n",
    "print(\"1- Para iniciar sesion\")\n",
    "print(\"2- Para crear un usuario\")\n",
    "\n",
    "\n",
    "\n",
    "while opcion != 3:   \n",
    "\n",
    "        opcion = int(input(\"introduzca una opcion\"))\n",
    "        if opcion == 1:\n",
    "                #usuarios creados ya anteriormente\n",
    "                user = input(\"introduzca su usuario.\")\n",
    "                contra = int(input(\"introduzca su contraseña\"))\n",
    "                \n",
    "                if user == \"Paco\" and contra == 123:\n",
    "                        print(\"bienvenido,\", user)  \n",
    "       \n",
    "                        # Verificar si el usuario y la contraseña son correctos\n",
    "                elif user in usuarios and usuarios[user] == contra:\n",
    "                        print(\"Bienvenido,\", user)\n",
    "                else:\n",
    "                        print(\"Nombre de usuario o contraseña incorrectos\")\n",
    "                        \n",
    "        elif opcion == 2:\n",
    "                #solicitar usuario y contraseña\n",
    "                userNuevo = input(\"Introduce tu usuario\")\n",
    "                contraNueva = int(input(\"Introduce tu contraseña\"))\n",
    "                print(\"Usuario creado con éxito. Usuario:\", userNuevo, \"Contraseña:\", contraNueva)\n",
    "\n",
    "                # Almacenar el nuevo usuario y la contraseña en el diccionario\n",
    "                usuarios[userNuevo] = contraNueva\n",
    "                print(\"Usuario creado con éxito.\")\n",
    "\n",
    "        elif opcion ==3:\n",
    "                print(\"adios\")\n",
    "                break"
   ]
  }
 ],
 "metadata": {
  "anaconda-cloud": {},
  "kernelspec": {
   "display_name": "Python 3",
   "language": "python",
   "name": "python3"
  },
  "language_info": {
   "codemirror_mode": {
    "name": "ipython",
    "version": 3
   },
   "file_extension": ".py",
   "mimetype": "text/x-python",
   "name": "python",
   "nbconvert_exporter": "python",
   "pygments_lexer": "ipython3",
   "version": "3.10.7"
  }
 },
 "nbformat": 4,
 "nbformat_minor": 1
}
