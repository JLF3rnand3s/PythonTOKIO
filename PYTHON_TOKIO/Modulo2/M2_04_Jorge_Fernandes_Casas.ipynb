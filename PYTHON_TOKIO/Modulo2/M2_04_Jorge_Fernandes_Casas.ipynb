{
 "cells": [
  {
   "cell_type": "markdown",
   "metadata": {},
   "source": [
    "# Ejercicios Modulo 2. Tipos avanzados\n",
    "\n",
    "Consideraciones a tener en cuenta: \n",
    "\n",
    "* Guardar este documento con el siguiente formato para su entrega: __M2_04_nombre_apellido1_apellido2__\n",
    "* Realizar los ejercicios con las herramientas vistas en las sesiones. Aún no hemos llegado a condicionales ni bucles\n",
    "* Comentar el código\n",
    "* Utilizar nombres de variables apropiados, si vais a guardar una nota, llamar a esa variable nota, no n o x"
   ]
  },
  {
   "cell_type": "markdown",
   "metadata": {},
   "source": [
    "## Ejercicios de tipos avanzados"
   ]
  },
  {
   "cell_type": "markdown",
   "metadata": {},
   "source": [
    "**1) Trabajemos con listas y tuplas**\n",
    "* Crea una lista y una tupla que contenga strings (al menos 3 elementos). Tematica libre, sobre lo que quieras, vehiculos, comida, música, etc.\n",
    "* Muestra la lista y la tupla\n",
    "* Muestra el 2º elemento de la lista y el penúltimo de la tupla\n",
    "* Modifica (si se puede) algún elemento de la lista y de la tupla. Y mostrar el resultado\n",
    "* Muestra el tamaño de la lista y de la tupla\n",
    "* Realiza una búsqueda de un elemento dentro de la lista y de la tupla. Mostrar si devuelve True o False\n",
    "* Añade (si se puede) algún elemento a la lista y a la tupla. Mostrar de nuevo la lista y la tupla para verificar si se ha realizado correctamente la acción.\n",
    "* Borra o elimina (si se puede) el contenido de la lista y de la tupla. Mosstrar de nuevo la lista y la tupla para verificar si se ha realizado correctamente la acción\n",
    "\n"
   ]
  },
  {
   "cell_type": "code",
   "execution_count": 81,
   "metadata": {},
   "outputs": [
    {
     "name": "stdout",
     "output_type": "stream",
     "text": [
      "El segundo elemento de la lista es: Mclaren y el penultimo de las tuplas: Gama Media-Alta\n"
     ]
    },
    {
     "data": {
      "text/plain": [
       "'Para eliminar un espacio el contenido en una lista lo que hay que hacer es modificar el espacio deseado y poner un espacio \\nen blanco'"
      ]
     },
     "execution_count": 81,
     "metadata": {},
     "output_type": "execute_result"
    }
   ],
   "source": [
    "#Creamos una lista de coches\n",
    "listaCoches= [\"Mustang\", \"Mclaren\", \"Porche\", \"Subaru\", \"Toyota\"]\n",
    "#Creamos una tupla de gamas\n",
    "tuplaGamas= (\"Gama Baja\", \"Gama Media\", \"Gama Media-Alta\", \"Gama Alta\")\n",
    "\n",
    "#Mostramos el segundo elemento de la lista y el penultimo de la tupla\n",
    "print(\"El segundo elemento de la lista es:\",listaCoches[1], \"y el penultimo de las tuplas:\", tuplaGamas[2])\n",
    "\n",
    "'''Modificamos un elemento en la lista, en las tuplas no se puede modificar por que daria error, pero aun asi\n",
    "le dejaremos el ejemplo por si quiere ejecutarlo'''\n",
    "\n",
    "#listaCoches[2] = \"Ferrari\"\n",
    "#print(listaCoches)\n",
    "\n",
    "'''Ahora hacemos el mismo ejemplo pero con las tuplas'''\n",
    "#tuplaGamas[0] = \"Gama Altisima\"\n",
    "#print(tuplaGamas)\n",
    "#Nos da error por que las tuplas son colecciones no modificables\n",
    "\n",
    "# Realiza una búsqueda de un elemento dentro de la lista y de la tupla. Mostrar si devuelve True o False\n",
    "'''resultado = \"Mustang\" in listaCoches\n",
    "print(resultado)\n",
    "\n",
    "resultTupla = \"Gama Alta\" in tuplaGamas\n",
    "print(resultTupla)\n",
    "'''\n",
    "\n",
    "'''Añade (si se puede) algún elemento a la lista y a la tupla. Mostrar de nuevo la lista y la tupla\n",
    "para verificar si se ha realizado correctamente la acción.'''\n",
    "\n",
    "#listaCoches.append(\"Ford-Fiesta\")\n",
    "#print(listaCoches)\n",
    "\n",
    "#En las tuplas no se pueden añadir pero le dejamos el ejemplo para que vea el error que sale\n",
    "#tuplaGamas.append(\"Gama altisima\")\n",
    "#print(tuplaGamas)\n",
    "\n",
    "\"\"\"Borra o elimina (si se puede) el contenido de la lista y de la tupla. Mosstrar de nuevo la lista y la tupla \n",
    "para verificar si se ha realizado correctamente la acción\"\"\"\n",
    "\n",
    "'''Para eliminar un espacio el contenido en una lista lo que hay que hacer es modificar el espacio deseado y poner un espacio \n",
    "en blanco'''\n",
    "\n",
    "#listaCoches[1] = \"\"\n",
    "#print(listaCoches)\n",
    "\n",
    "#En las tuplas no se pueden eliminar objetos ni items pero le dejamos el ejemplo para que vea el error\n",
    "#tuplaGamas[1] = \"\"\n",
    "#print(tuplaGamas)\n"
   ]
  },
  {
   "cell_type": "markdown",
   "metadata": {},
   "source": [
    "**2) Trabajemos con sets y diccionarios**\n",
    "* Crea una set y un diccionario que contengan strings (al menos 3 elementos en el caso del set y 3 conjuntos de clave:valor en el caso del diccionario). Tematica libre, sobre lo que quieras, vehiculos, comida, música, etc.\n",
    "* Muestra el set y el diccionario\n",
    "* Muestra (si se puede) el 2º elemento del set y el valor del primer clave-valor del diccionario\n",
    "* Modifica (si se puede) algún elemento del set o del diccionario. Y mostrar el resultado\n",
    "* Muestra el tamaño del set y del diccionario\n",
    "* Realiza una búsqueda de un elemento dentro del set y dentro del diccionario. Mostrar si devuelve True o False\n",
    "* Añade (si se puede) algún elemento al set y algun clave-valor al diccionario. Mostrar de nuevo el set y el diccionario para verificar si se ha realizado correctamente la acción.\n",
    "* Borra o elimina (si se puede) el contenido del set y del diccionario. Mosstrar de nuevo el set y el diccionario para verificar si se ha realizado correctamente la acción\n",
    "\n"
   ]
  },
  {
   "cell_type": "code",
   "execution_count": 50,
   "metadata": {},
   "outputs": [
    {
     "name": "stdout",
     "output_type": "stream",
     "text": [
      "Fiesta\n",
      "FordFiesta\n",
      "3\n",
      "4\n",
      "True\n",
      "False\n",
      "True\n",
      "True\n",
      "{'brand': 'Ford', 'model': 'FordFiesta', 'Year': 1995, 'long': 2}\n",
      "{'WatterMelon', 'apple', 'banana', 'orange', 'pear'}\n",
      "{'brand': 'Ford', 'Year': 1995, 'long': 2}\n",
      "{'apple', 'banana', 'orange', 'pear'}\n"
     ]
    }
   ],
   "source": [
    "#Creamos un set de frutas\n",
    "canasta = {'apple', 'orange', 'pear', 'banana'}\n",
    "#Creamos un diccionario de coches\n",
    "diccionarioCoches = {\n",
    "    \"brand\" : \"Ford\",\n",
    "    \"model\" : \"Fiesta\",\n",
    "    \"Year\" : 1995\n",
    "}\n",
    "#Muestra el set y el diccionario\n",
    "'''for x, y in diccionarioCoches.items():\n",
    "    print(x, \":\" ,y)\n",
    "for x in canasta:\n",
    "    print(x)'''\n",
    "\n",
    "#Muestra (si se puede) el 2º elemento del set y el valor del primer clave-valor del diccionario\n",
    "#print(canasta[1]) Esto no va a funcionar ya que no se pueden mostrar los objetos de un set \n",
    "\n",
    "#Para mostrar el objeto que nos interesa hay que sacarlo del diccionario y guardarlo en una variable\n",
    "dato = diccionarioCoches[\"model\"]\n",
    "print(dato)\n",
    "\n",
    "#Modifica (si se puede) algún elemento del set o del diccionario. Y mostrar el resultado\n",
    "#En los set no se pueden modificar los datos, pero haremos una prueba para que se aprecie\n",
    "#canasta[1] = \"melon\"\n",
    "\n",
    "#En su diferencia en el diccionario si se pueden modificar\n",
    "diccionarioCoches[\"model\"] = \"FordFiesta\"\n",
    "#imprimimos para observar la diferencia \n",
    "dato2 = diccionarioCoches[\"model\"]\n",
    "print(dato2)\n",
    "\n",
    "# Muestra el tamaño del set y del diccionario\n",
    "print(len(diccionarioCoches))#tamaño del diccionario\n",
    "print(len(canasta))#tamaño del set\n",
    "\n",
    "#Realiza una búsqueda de un elemento dentro del set y dentro del diccionario. Mostrar si devuelve True o False\n",
    "print(\"apple\" in canasta)\n",
    "#Para el diccionario podemos sacar la parte izquierda si lo queremos hacer rapido.\n",
    "print(\"Ford\" in diccionarioCoches) #devuelve false\n",
    "print(\"brand\" in diccionarioCoches) #devuelve true\n",
    "#Para sacar un valor especifico tenemos que hcaerlo por pasos\n",
    "datoInteresante = diccionarioCoches[\"brand\"]\n",
    "print (\"Ford\" in datoInteresante)\n",
    "\n",
    "'''Añade (si se puede) algún elemento al set y algun clave-valor al diccionario. \n",
    "Mostrar de nuevo el set y el diccionario para verificar si se ha realizado correctamente la acción.'''\n",
    "diccionarioCoches [\"long\"] = 2\n",
    "print(diccionarioCoches)\n",
    "#añadimos al set\n",
    "canasta.add(\"WatterMelon\")\n",
    "print(canasta)\n",
    "\n",
    "'''Borra o elimina (si se puede) el contenido del set y del diccionario.\n",
    "Mostrar de nuevo el set y el diccionario para verificar si se ha realizado correctamente la acción'''\n",
    "diccionarioCoches.pop(\"model\")\n",
    "print(diccionarioCoches)\n",
    "#descartamos un elemento de la canasta\n",
    "canasta.remove(\"WatterMelon\")\n",
    "print(canasta)"
   ]
  },
  {
   "cell_type": "markdown",
   "metadata": {},
   "source": [
    "**3) Realizar un programa que pida al usuario 3 números que pueden ser flotantes (no es necesario realizar bucles aún, podemos repetir el código), estos números se deberán introducir en una lista. Cuando se haya finalizado la introducción de los datos, se mostrará el sumatorio de toda la lista. Guardar el sumatorio en una variable que se llame \"sumatorio\"**\n",
    "\n",
    "*Ayuda: Existe una función llamada sum(lista) ¡Pruébalo!*"
   ]
  },
  {
   "cell_type": "code",
   "execution_count": 63,
   "metadata": {},
   "outputs": [
    {
     "name": "stdout",
     "output_type": "stream",
     "text": [
      "[1, 2.0, 3]\n",
      "El resultado de la suma de todos los numeros es: 6.0\n"
     ]
    }
   ],
   "source": [
    "#Pedimos tres numeros al usuario\n",
    "numero1 = int(input(\"Introduzca un numero entero\")) \n",
    "numero2 = float(input(\"Introduzca un numero flotante\"))\n",
    "numero3 = int(input(\"Introduzca otro numero entero\"))\n",
    "#Guardamos los numero que obtenemos en la lista\n",
    "listaNumeros = [numero1, numero2, numero3]\n",
    "#verificamos que esten los numeros en la lista\n",
    "print(listaNumeros)\n",
    "#sumamos los numeros\n",
    "sumatorio = sum(listaNumeros)\n",
    "print(\"El resultado de la suma de todos los numeros es:\", sumatorio)\n"
   ]
  },
  {
   "cell_type": "markdown",
   "metadata": {},
   "source": [
    "**4) Sobre el ejercicio anterior, queremos mostrar la media aritmética de los elementos de esa lista. Indicar la instrucción necesaria para obtenerla.**\n",
    "\n",
    "*En este caso sabemos que el número de elementos que ha introducido el usuario es 3, pero en otra ocasión podría ser diferente, por lo tanto, no hagáis referencia al número 3 en ningún sitio*"
   ]
  },
  {
   "cell_type": "code",
   "execution_count": 72,
   "metadata": {},
   "outputs": [
    {
     "name": "stdout",
     "output_type": "stream",
     "text": [
      "[2, 5.2, 2]\n",
      "El resultado de la suma de todos los numeros es: 9.2\n",
      "media es: 3.0666666666666664\n"
     ]
    }
   ],
   "source": [
    " #Pedimos tres numeros al usuario\n",
    "numero1 = int(input(\"Introduzca un numero entero\")) \n",
    "numero2 = float(input(\"Introduzca un numero decimal\"))\n",
    "numero3 = int(input(\"Introduzca otro numero entero\"))\n",
    "#Guardamos los numero que obtenemos en la lista\n",
    "listaNumeros = [numero1, numero2, numero3]\n",
    "#verificamos que esten los numeros en la lista\n",
    "print(listaNumeros)\n",
    "#sumamos los numeros\n",
    "sumatorio = sum(listaNumeros)\n",
    "print(\"El resultado de la suma de todos los numeros es:\", sumatorio)\n",
    "\n",
    "#Para obetener ademas la media aritmetica de los valores que metamos en la lista hacemos los siguiente\n",
    "\n",
    "    #Primero obtenemos la cantidad de numeros que tenemos en la lista \n",
    "    #sumandolos (esto lo hicimos en el ejercicio anterior con la variable \"sumatorio\") \n",
    "    #por lo que nada mas nos quedaria sacar la cantidad de variables dentro de la lista con un \"len\"\n",
    "cantidadLista = len(listaNumeros)\n",
    "#Por ultimo imprimimos la media aritmetica de los numeros\n",
    "print(\"La media entre los numeros anteriores y la lista es:\", sumatorio/cantidadLista)"
   ]
  },
  {
   "cell_type": "markdown",
   "metadata": {},
   "source": [
    "**5) Dada la siguiente matriz de notas (una matriz es una lista de listas anidadas) se observa que cada fila es un listado de notas de un alumno, donde en la última posición de cada lista se encuentra el sumatorio de todas las notas anteriores de esa lista. Pero apreciamos que hay varios errores en los sumatorios de varios alumnos, utilizar la técnica de slicing para acceder a estas posiciones y modificar los valores erroneos de la forma más automatizada posible.**\n",
    "\n",
    "* No vale poner directamente los valores:\n",
    "```python\n",
    "notas[1][3] = 60\n",
    "notas[3][3] = 120\n",
    "```\n",
    "* Hay que buscar una forma automatizada de acceder y modificar esos valores"
   ]
  },
  {
   "cell_type": "code",
   "execution_count": 127,
   "metadata": {},
   "outputs": [
    {
     "name": "stdout",
     "output_type": "stream",
     "text": [
      "[[10, 10, 10, 30], [20, 20, 20, 60], [30, 30, 30, 90], [40, 40, 40, 120]]\n"
     ]
    }
   ],
   "source": [
    "notas = [ \n",
    "    [10, 10, 10, 30],\n",
    "    [20, 20, 20, 70],\n",
    "    [30, 30, 30, 90],\n",
    "    [40, 40, 40, 130]\n",
    "]\n",
    "\n",
    "#Hacemos un for para recorrer las filas del array\n",
    "for i in range(len(notas)):\n",
    "    #Creamos una varible sum en la cual se guardaran la suma de los numeros de la lista\n",
    "    sum = 0\n",
    "#Hacemos otro for para recorrer las columnas exceptuando el ultimo valor de la lista\n",
    "    for j in range(len(notas[i]) - 1):\n",
    "#igualamos el valor de la suma a las notas en una indeterminada posicion de lista \n",
    "        sum += notas[i][j]\n",
    "#Comparamos las notas y si el resultado es distinto de la lista original, la ultima posicion (la suma) se cambia\n",
    "    if sum != notas[i][-1]:\n",
    "        #cambiamos el ultimo item de la lista \n",
    "        notas[i][-1] = sum\n",
    "#imprimimos el resultado\n",
    "print(notas)\n"
   ]
  },
  {
   "cell_type": "markdown",
   "metadata": {},
   "source": [
    "**6) Supongamos que obtenemos una cadena de texto corrupta, esta al revés. Esta cadena contiene el nombre y el año de nacimiento de una persona. Formatear dicha cadena para obtener el siguiente formato:**\n",
    "\n",
    "* Empleado ***Nombre*** ***Apellido*** nacido en el año ***Año***\n",
    "\n",
    "*Pista: Para invertir el orden una cadena usando técnicas de slicing se puede utilizar un tercer índice -1: cadena[::-1]*\n"
   ]
  },
  {
   "cell_type": "code",
   "execution_count": 131,
   "metadata": {},
   "outputs": [
    {
     "name": "stdout",
     "output_type": "stream",
     "text": [
      "1985,Carlos Perez\n"
     ]
    }
   ],
   "source": [
    "cadena = \"zereP solraC, 5891\"\n",
    "print(cadena[::-1])\n"
   ]
  },
  {
   "cell_type": "markdown",
   "metadata": {},
   "source": [
    "**7) Practiquemos con conjuntos:**\n",
    "* Crea un conjunto llamado mamíferos que tenga los elementos Gato, León, Caballo, Ballena y Tortuga\n",
    "* Crea un conjunto llamado peces que tenga los elementos Ballena y Sardina\n",
    "* Borra la Tortuga del conjunto mamiíferos\n",
    "* Añade el Pez Payaso al conjunto peces\n",
    "* Imprime los conjuntos por pantalla\n",
    "* Imprime por pantalla los elementos que se encuentren en ambos conjuntos, es decir, que sean mamíferos y peces"
   ]
  },
  {
   "cell_type": "code",
   "execution_count": 146,
   "metadata": {},
   "outputs": [
    {
     "name": "stdout",
     "output_type": "stream",
     "text": [
      "Mamifero --> Gato\n",
      "Mamifero --> León\n",
      "Mamifero --> Caballo\n",
      "Mamifero --> Ballena\n",
      "Peces --> Ballena\n",
      "Peces --> Sardina\n",
      "Peces --> Pez Payaso\n",
      "mamifero es: Ballena\n"
     ]
    }
   ],
   "source": [
    "mamiferos = [\"Gato\", \"León\", \"Caballo\", \"Ballena\", \"Tortuga\"]\n",
    "peces = [\"Ballena\", \"Sardina\"]\n",
    "#borramos el elemento tortuga\n",
    "mamiferos.remove(\"Tortuga\")\n",
    "#Verificamos --> print(mamiferos)\n",
    "peces.append(\"Pez Payaso\")\n",
    "#Verificamos --> print(peces)\n",
    "\n",
    "#Mostramos por pantalla\n",
    "for x in mamiferos:\n",
    "    print(\"Mamifero -->\", x)\n",
    "for j in peces:\n",
    "    print(\"Peces -->\", j)\n",
    "\n",
    "for x in mamiferos:\n",
    "   if x in peces:\n",
    "       print(\"El mamifero es:\", x)"
   ]
  },
  {
   "cell_type": "markdown",
   "metadata": {},
   "source": [
    "**8) Practiquemos con diccionarios. Tenemos un diccionario que contiene una serie de productos. Realicemos las tres siguientes tareas:**\n",
    "* Ver productos\n",
    "* Subir el precio a todos los productos\n",
    "* Volver a ver todos los precios (para comprobar que el precio ha subido)\n",
    "\n",
    "Al inicio del programa, se mostrarán todos los productos, tienen que aparecer ordenados con el siguiente formato: <br><code>1 - Arduino - 30€</code><br>\n",
    "Posteriormente, a todos los productos se aplicará una subida del 50% a todos los precios de productos.<br>\n",
    "Y finalmente volveremos a mostrar todos los productos para comprobar la subida de precios."
   ]
  },
  {
   "cell_type": "code",
   "execution_count": 183,
   "metadata": {},
   "outputs": [
    {
     "name": "stdout",
     "output_type": "stream",
     "text": [
      "1 - Arduino - 30€\n",
      "2 - RPi - 70€\n",
      "3 - Print 3D - 300€\n",
      "------------------- Productos Actualizados ------------------\n",
      "1 - Arduino - 45.0€\n",
      "2 - RPi - 105.0€\n",
      "3 - Print 3D - 450.0€\n"
     ]
    }
   ],
   "source": [
    "productos = { 'id':[1,2,3], \n",
    "             'nombre':['Arduino', 'RPi', 'Print 3D'], \n",
    "             'precio': [30, 70, 300] \n",
    "            }\n",
    "\n",
    "#ver productos\n",
    "'''Los sacamos mediante las llamadas a las claves y utilizando en el print \"f\", para mantener el formato del (1 - ad - 30)\n",
    "de los productos, por lo que para que nos aparezca de primero el id en los productos (1, 2, 3), llamamos a la clave \"id\" \n",
    "luego en el print llamamos a las demas claves en el orden que queramos mostrarlos'''\n",
    "for i in range(len(productos['id'])):\n",
    "    print(f\"{i+1} - {productos['nombre'][i]} - {productos['precio'][i]}€\")\n",
    "\n",
    "#Ahora subimso los precios\n",
    "for x in range(len(productos['id'])):\n",
    "    productos['precio'][x] *= 1.5\n",
    "\n",
    "#Mostramos todos los precios actualizados\n",
    "print(\"------------------- Productos Actualizados ------------------\")\n",
    "for j in range(len(productos['id'])): \n",
    "    print(f\"{j+1} - {productos['nombre'][j]} - {productos['precio'][j]}€\")"
   ]
  }
 ],
 "metadata": {
  "anaconda-cloud": {},
  "kernelspec": {
   "display_name": "Python 3",
   "language": "python",
   "name": "python3"
  },
  "language_info": {
   "codemirror_mode": {
    "name": "ipython",
    "version": 3
   },
   "file_extension": ".py",
   "mimetype": "text/x-python",
   "name": "python",
   "nbconvert_exporter": "python",
   "pygments_lexer": "ipython3",
   "version": "3.10.7"
  },
  "vscode": {
   "interpreter": {
    "hash": "c63d8c7d738c2960218a10995aedf0a7f67a49a231e71037adf0440953cdb45b"
   }
  }
 },
 "nbformat": 4,
 "nbformat_minor": 1
}
