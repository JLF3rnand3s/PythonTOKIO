{
 "cells": [
  {
   "cell_type": "markdown",
   "metadata": {},
   "source": [
    "# Ejercicios Modulo 2. Operadores\n",
    "\n",
    "Consideraciones a tener en cuenta: \n",
    "\n",
    "* Guardar este documento con el siguiente formato para su entrega: __M2_02_nombre_apellido1_apellido2__\n",
    "* Realizar los ejercicios con las herramientas vistas en las sesiones. Aún no hemos llegado a condicionales ni bucles\n",
    "* Comentar el código\n",
    "* Utilizar nombres de variables apropiados, si vais a guardar una nota, llamar a esa variable nota, no n o x"
   ]
  },
  {
   "cell_type": "markdown",
   "metadata": {},
   "source": [
    "## Ejercicios de operadores y expresiones"
   ]
  },
  {
   "cell_type": "markdown",
   "metadata": {},
   "source": [
    "**1) Crear 5 variables con 5 notas numéricas y realizar la media aritmética. Mostrar el resultado final con un mensaje como este: \"La nota media es 6.0\"**"
   ]
  },
  {
   "cell_type": "code",
   "execution_count": 7,
   "metadata": {},
   "outputs": [
    {
     "name": "stdout",
     "output_type": "stream",
     "text": [
      "6.0\n"
     ]
    }
   ],
   "source": [
    "'''Creamos un par de variables (yo lo hare con numeros iguales en este caso 6 para simplificarlo) numericas que serán las notas\n",
    " que tendrá dicha persona'''\n",
    "nota1 = 6\n",
    "nota2 = 6\n",
    "nota3 = 6\n",
    "nota4 = 6\n",
    "nota5 = 6\n",
    "#Sumamos dichas notas y las guardamos todas en una sola varible a la cual llamaremos sumatoria\n",
    "sumatoria = nota1+nota2+nota3+nota4+nota5\n",
    "#Para finalizar a la varible sumatoria la dividiremos entre el numero de notas que tengamos, en este caso 5.\n",
    "media = sumatoria/5\n",
    "#Para finalizar lo mostramos por consola con un print\n",
    "print(media)"
   ]
  },
  {
   "cell_type": "markdown",
   "metadata": {},
   "source": [
    "**2) Busca en la documentación la forma correcta de redondear el siguiente resultado a tan solo 2 decimales: operacion = (365 / 12) * 14.7**"
   ]
  },
  {
   "cell_type": "code",
   "execution_count": 3,
   "metadata": {},
   "outputs": [
    {
     "name": "stdout",
     "output_type": "stream",
     "text": [
      "447.125\n",
      "447.125\n"
     ]
    }
   ],
   "source": [
    "'''La primera forma esta incorrecta, por el simple hecho de que los parentesis siempre (o por comodidad del lector) se ponen luego de un numero\n",
    "es decir, es más comprensible poner el numero (14.7) y luego poner por lo que se está multiplicando (365/12) aunque lo que se resuelva primero\n",
    "siempre sea lo que esta dentro del parentesis y luego se hagan las operaciones aritmeticas de fuera'''\n",
    "operacion = (365/12)*14.7\n",
    "#correcta\n",
    "operacion2 = 14.7*(365/12)\n",
    "#hacemos un print de las dos para que se pueda observar que en este caso no afecta en nada a el resultado\n",
    "print(operacion)\n",
    "print(operacion2)"
   ]
  },
  {
   "cell_type": "markdown",
   "metadata": {},
   "source": [
    "**3) Crea dos variables que almacenen 2 strings (username y password). Realizar las siguientes comprobaciones utilizando operadores lógicos:**\n",
    "* Que la longitud de username sea mayor o igual que tres y menor que diez\n",
    "* Que la password sea igual a \"Tokio\" o que sea igual a \"Python\".\n",
    "<br>La salida por pantalla tiene que ser:\n",
    "    * **Username: True o False** (según se haya evaluado)\n",
    "    * **Password: True o False** (según se haya evaluado)"
   ]
  },
  {
   "cell_type": "code",
   "execution_count": 35,
   "metadata": {},
   "outputs": [
    {
     "name": "stdout",
     "output_type": "stream",
     "text": [
      "True\n"
     ]
    }
   ],
   "source": [
    "#Para empezar creamos dos variables booleans que nos devuelvan un true o false segun el caso\n",
    "Username = \"Jorge\"\n",
    "resultado = len(Username) >= 3 and len(Username) <=10\n",
    "print (resultado)\n",
    "#Ahora hacemos una variable para el nombre que vayamos a guardar y luego mediante los if podemos sacar si es true o false\n",
    "#segun lo que se ponga\n",
    "Password = \"Tokio\"\n",
    "if Password == \"Tokio\" or Password == \"Python\":\n",
    "     print(True) \n",
    "else:\n",
    "  print(False)\n"
   ]
  },
  {
   "cell_type": "markdown",
   "metadata": {},
   "source": [
    "**4) Practiquemos con los operadores de asignación (=, +=, *=, etc.):**\n",
    "* Crea dos variables y asignales los números que quieras\n",
    "* Incrementale a num1 su valor en 1\n",
    "* Decrementale a num2 su valor en 2\n",
    "* Multiplica num1 por 3 y actualiza su valor\n",
    "* Dividide num2 por 2 y actualiza su valor\n",
    "* Muestra los resultados"
   ]
  },
  {
   "cell_type": "code",
   "execution_count": 36,
   "metadata": {},
   "outputs": [
    {
     "name": "stdout",
     "output_type": "stream",
     "text": [
      "33\n",
      "9\n"
     ]
    }
   ],
   "source": [
    "#Parametros del numero 1\n",
    "num1 = 10\n",
    "#Aumentamos el valor de numero 1 en 1\n",
    "num1 += 1\n",
    "#Lo sacamos por consola para comprobar que funciona\n",
    "#print(num1)\n",
    "#ahora multiplicamos numero 1\n",
    "num1 = num1*3\n",
    "#Imprimimos el resultado\n",
    "print(num1) \n",
    "\n",
    "\n",
    "#Parametros del numero 2\n",
    "num2 = 20\n",
    "#Decremento de su valor en 2\n",
    "num2 -= 2\n",
    "#comprobamos \n",
    "#print(num2)\n",
    "#dividimos el resultado por 2 \n",
    "num2 = num2//2\n",
    "#imprimimos el valor actualizado\n",
    "print(num2)\n"
   ]
  }
 ],
 "metadata": {
  "anaconda-cloud": {},
  "kernelspec": {
   "display_name": "Python 3",
   "language": "python",
   "name": "python3"
  },
  "language_info": {
   "codemirror_mode": {
    "name": "ipython",
    "version": 3
   },
   "file_extension": ".py",
   "mimetype": "text/x-python",
   "name": "python",
   "nbconvert_exporter": "python",
   "pygments_lexer": "ipython3",
   "version": "3.10.7"
  },
  "vscode": {
   "interpreter": {
    "hash": "c63d8c7d738c2960218a10995aedf0a7f67a49a231e71037adf0440953cdb45b"
   }
  }
 },
 "nbformat": 4,
 "nbformat_minor": 1
}
