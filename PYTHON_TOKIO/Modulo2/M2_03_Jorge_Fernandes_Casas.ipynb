{
 "cells": [
  {
   "cell_type": "markdown",
   "metadata": {},
   "source": [
    "# Ejercicios Modulo 2. Entrada y salida de datos\n",
    "\n",
    "Consideraciones a tener en cuenta: \n",
    "\n",
    "* Guardar este documento con el siguiente formato para su entrega: __M2_03_nombre_apellido1_apellido2__\n",
    "* Realizar los ejercicios con las herramientas vistas en las sesiones. Aún no hemos llegado a condicionales ni bucles\n",
    "* Comentar el código\n",
    "* Utilizar nombres de variables apropiados, si vais a guardar una nota, llamar a esa variable nota, no n o x"
   ]
  },
  {
   "cell_type": "markdown",
   "metadata": {},
   "source": [
    "## Ejercicios de entrada y salida"
   ]
  },
  {
   "cell_type": "markdown",
   "metadata": {},
   "source": [
    "**1) Utiliza el método input() para realizar las siguientes tareas:**\n",
    "\n",
    "* Pide un número por teclado, muestra el resultado y su tipo (para conocer en que tipo de dato captura la información input())\n",
    "* Pide un número por teclado y asegurate de que capturemos la información en formato int\n",
    "* Pide un número por teclado y asegurate de que capturemos la información en formato float\n",
    "\n",
    "__Comprobar con type que los datos son del tipo correcto__"
   ]
  },
  {
   "cell_type": "code",
   "execution_count": 44,
   "metadata": {},
   "outputs": [
    {
     "name": "stdout",
     "output_type": "stream",
     "text": [
      "7 <class 'str'>\n",
      "7 <class 'int'>\n",
      "8.0 <class 'float'>\n"
     ]
    }
   ],
   "source": [
    "#El resultado siempre sera un Str.\n",
    "Resultado1 = input(\"Introduce un numero\")\n",
    "#Imprimimos lo que escribimos y el tipo de la variable\n",
    "print(Resultado1,type(Resultado1))\n",
    "\n",
    "#Casteo a int\n",
    "Resultado2 = int(input(\"Introduce un numero entero\"))\n",
    "#Imprimimos lo que escribimos y el tipo de la variable\n",
    "print(Resultado2,type(Resultado2))\n",
    "\n",
    "#Casteo a float\n",
    "Resultado3 = float(input(\"introduce un numero demical o flotante\"))\n",
    "#Imprimimos lo que escribimos y el tipo de la variable\n",
    "print(Resultado3,type(Resultado3))\n"
   ]
  },
  {
   "cell_type": "markdown",
   "metadata": {},
   "source": [
    "**2) Vamos a formatear números:**\n",
    "\n",
    "* Pide un numero entero por teclado\n",
    "* Muéstralo con el formato de 5 dígitos rellenos con 0s por delante\n",
    "* Pide un número flotante por teclado\n",
    "* Muéstralo con 5 dígitos para la parte entera y 3 dígitos para la parte decimal"
   ]
  },
  {
   "cell_type": "code",
   "execution_count": 50,
   "metadata": {},
   "outputs": [
    {
     "name": "stdout",
     "output_type": "stream",
     "text": [
      "Su numero es: 200000\n",
      "su numero es: 22344.345\n"
     ]
    }
   ],
   "source": [
    "#Pedimos un numero entero por teclado utilizando el Input\n",
    "Numero = int(input(\"Por favor, coloque un numero entero\"))\n",
    "'''Lo mostramos con 5 ceros por delante, para esto Lo que hacemos es guardar en una variable entera\n",
    "la cantidad de ceros que deseamos porner y luego llamarlos en el texto con un format()'''\n",
    "print(\"Su numero es: {}00000\" .format(Numero))\n",
    "\n",
    "#NOTA: esta parte del ejercicio no se si se resuelve asi, o si es lo que pide, no lo he entendido muy bien.\n",
    "#Ahora hacemos lo mismo para la parte de los flotantes con la direfencia que le añadimos 3 digitos a la parte decimal\n",
    "Decimal = float(input(\"Por favor ingrese un numero de cinco digitos y tres digitos de decimales\"))\n",
    "print(\"su numero es: {}\" .format(Decimal))"
   ]
  },
  {
   "cell_type": "markdown",
   "metadata": {},
   "source": [
    "**3) Vamos a ponernos creativos. ¿Cuántas formas tienes de mostrar esta información?**<bR>\n",
    "<code>La altura es de 1,80 metros y el peso es de 80,135 KG</code>\n",
    "    \n",
    "Siendo la altura y el peso dos variables que se recojan con 2 inputs\n",
    "    \n",
    "__Pista: format() se puede usar de varias formas__"
   ]
  },
  {
   "cell_type": "code",
   "execution_count": 52,
   "metadata": {},
   "outputs": [
    {
     "name": "stdout",
     "output_type": "stream",
     "text": [
      "La altura es de 1.5 metros y el peso es de 58.26 KG\n"
     ]
    }
   ],
   "source": [
    "Altura = float (input(\"Inserte su altura en metros y respeta los puntos (un ejemplo es 1.80 metros)\"))\n",
    "Peso = float (input (\"Inserte su peso en kilogramos y respeta los puntos del ejemplo (Un ejemplo puede ser 68.78 kg)\"))\n",
    "print(\"La altura es de {} metros y el peso es de {} KG\".format(Altura, Peso))"
   ]
  }
 ],
 "metadata": {
  "anaconda-cloud": {},
  "kernelspec": {
   "display_name": "Python 3",
   "language": "python",
   "name": "python3"
  },
  "language_info": {
   "codemirror_mode": {
    "name": "ipython",
    "version": 3
   },
   "file_extension": ".py",
   "mimetype": "text/x-python",
   "name": "python",
   "nbconvert_exporter": "python",
   "pygments_lexer": "ipython3",
   "version": "3.10.7"
  },
  "vscode": {
   "interpreter": {
    "hash": "c63d8c7d738c2960218a10995aedf0a7f67a49a231e71037adf0440953cdb45b"
   }
  }
 },
 "nbformat": 4,
 "nbformat_minor": 1
}
